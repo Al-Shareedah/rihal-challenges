{
 "cells": [
  {
   "cell_type": "markdown",
   "id": "e620fac4",
   "metadata": {},
   "source": [
    "# Rihal Data Science Challenge\n",
    "\n",
    "You are allowed to use any method in reading, loading, transforming the data. Additionally, you can use any model to predict the price of used cars. \n",
    "\n",
    "**Make sure** you explain your approach at each step, and to evaluate your model. Finally, you must show the Mean Asbolute Error from your model's predictions when compared with the test dataset's prices. \n",
    "\n",
    "---------------------------"
   ]
  },
  {
   "cell_type": "markdown",
   "id": "ae6f0d4a",
   "metadata": {},
   "source": [
    "## Imports"
   ]
  },
  {
   "cell_type": "code",
   "execution_count": 1,
   "id": "4ac8ec7b",
   "metadata": {},
   "outputs": [],
   "source": [
    "import pandas as pd\n",
    "import numpy as np\n",
    "import seaborn as sns\n",
    "\n",
    "pd.options.display.max_columns = 110"
   ]
  },
  {
   "cell_type": "markdown",
   "id": "4ca339c9",
   "metadata": {},
   "source": [
    "## Read Data"
   ]
  },
  {
   "cell_type": "code",
   "execution_count": 2,
   "id": "95ee04a6",
   "metadata": {},
   "outputs": [],
   "source": [
    "df_train = pd.read_csv('data_train.csv')\n",
    "df_test = pd.read_csv('data_test.csv')"
   ]
  },
  {
   "cell_type": "code",
   "execution_count": 3,
   "id": "7c74c99d",
   "metadata": {
    "scrolled": false
   },
   "outputs": [
    {
     "data": {
      "text/html": [
       "<div>\n",
       "<style scoped>\n",
       "    .dataframe tbody tr th:only-of-type {\n",
       "        vertical-align: middle;\n",
       "    }\n",
       "\n",
       "    .dataframe tbody tr th {\n",
       "        vertical-align: top;\n",
       "    }\n",
       "\n",
       "    .dataframe thead th {\n",
       "        text-align: right;\n",
       "    }\n",
       "</style>\n",
       "<table border=\"1\" class=\"dataframe\">\n",
       "  <thead>\n",
       "    <tr style=\"text-align: right;\">\n",
       "      <th></th>\n",
       "      <th>manufacturer_name</th>\n",
       "      <th>transmission</th>\n",
       "      <th>color</th>\n",
       "      <th>odometer_value</th>\n",
       "      <th>year_produced</th>\n",
       "      <th>engine_fuel</th>\n",
       "      <th>engine_type</th>\n",
       "      <th>engine_capacity</th>\n",
       "      <th>body_type</th>\n",
       "      <th>has_warranty</th>\n",
       "      <th>ownership</th>\n",
       "      <th>type_of_drive</th>\n",
       "      <th>is_exchangeable</th>\n",
       "      <th>number_of_photos</th>\n",
       "      <th>number_of_maintenance</th>\n",
       "      <th>duration_listed</th>\n",
       "      <th>price_usd</th>\n",
       "    </tr>\n",
       "  </thead>\n",
       "  <tbody>\n",
       "    <tr>\n",
       "      <th>0</th>\n",
       "      <td>Volkswagen</td>\n",
       "      <td>automatic</td>\n",
       "      <td>black</td>\n",
       "      <td>130000</td>\n",
       "      <td>2016</td>\n",
       "      <td>diesel</td>\n",
       "      <td>diesel</td>\n",
       "      <td>1.6</td>\n",
       "      <td>universal</td>\n",
       "      <td>False</td>\n",
       "      <td>owned</td>\n",
       "      <td>front</td>\n",
       "      <td>True</td>\n",
       "      <td>17</td>\n",
       "      <td>38</td>\n",
       "      <td>67</td>\n",
       "      <td>13150.0</td>\n",
       "    </tr>\n",
       "    <tr>\n",
       "      <th>1</th>\n",
       "      <td>Renault</td>\n",
       "      <td>manual</td>\n",
       "      <td>brown</td>\n",
       "      <td>149000</td>\n",
       "      <td>2012</td>\n",
       "      <td>gasoline</td>\n",
       "      <td>gasoline</td>\n",
       "      <td>1.6</td>\n",
       "      <td>sedan</td>\n",
       "      <td>False</td>\n",
       "      <td>owned</td>\n",
       "      <td>front</td>\n",
       "      <td>False</td>\n",
       "      <td>9</td>\n",
       "      <td>3</td>\n",
       "      <td>100</td>\n",
       "      <td>7500.0</td>\n",
       "    </tr>\n",
       "    <tr>\n",
       "      <th>2</th>\n",
       "      <td>Kia</td>\n",
       "      <td>automatic</td>\n",
       "      <td>brown</td>\n",
       "      <td>110000</td>\n",
       "      <td>2014</td>\n",
       "      <td>gasoline</td>\n",
       "      <td>gasoline</td>\n",
       "      <td>1.6</td>\n",
       "      <td>hatchback</td>\n",
       "      <td>False</td>\n",
       "      <td>owned</td>\n",
       "      <td>front</td>\n",
       "      <td>False</td>\n",
       "      <td>5</td>\n",
       "      <td>10</td>\n",
       "      <td>91</td>\n",
       "      <td>12200.0</td>\n",
       "    </tr>\n",
       "    <tr>\n",
       "      <th>3</th>\n",
       "      <td>Opel</td>\n",
       "      <td>automatic</td>\n",
       "      <td>other</td>\n",
       "      <td>255100</td>\n",
       "      <td>2007</td>\n",
       "      <td>gasoline</td>\n",
       "      <td>gasoline</td>\n",
       "      <td>1.8</td>\n",
       "      <td>hatchback</td>\n",
       "      <td>False</td>\n",
       "      <td>owned</td>\n",
       "      <td>front</td>\n",
       "      <td>False</td>\n",
       "      <td>10</td>\n",
       "      <td>4</td>\n",
       "      <td>91</td>\n",
       "      <td>4950.0</td>\n",
       "    </tr>\n",
       "    <tr>\n",
       "      <th>4</th>\n",
       "      <td>Mazda</td>\n",
       "      <td>manual</td>\n",
       "      <td>blue</td>\n",
       "      <td>650000</td>\n",
       "      <td>1999</td>\n",
       "      <td>gasoline</td>\n",
       "      <td>gasoline</td>\n",
       "      <td>2.0</td>\n",
       "      <td>sedan</td>\n",
       "      <td>False</td>\n",
       "      <td>owned</td>\n",
       "      <td>front</td>\n",
       "      <td>True</td>\n",
       "      <td>5</td>\n",
       "      <td>7</td>\n",
       "      <td>62</td>\n",
       "      <td>3000.0</td>\n",
       "    </tr>\n",
       "  </tbody>\n",
       "</table>\n",
       "</div>"
      ],
      "text/plain": [
       "  manufacturer_name transmission  color  odometer_value  year_produced  \\\n",
       "0        Volkswagen    automatic  black          130000           2016   \n",
       "1           Renault       manual  brown          149000           2012   \n",
       "2               Kia    automatic  brown          110000           2014   \n",
       "3              Opel    automatic  other          255100           2007   \n",
       "4             Mazda       manual   blue          650000           1999   \n",
       "\n",
       "  engine_fuel engine_type  engine_capacity  body_type  has_warranty ownership  \\\n",
       "0      diesel      diesel              1.6  universal         False     owned   \n",
       "1    gasoline    gasoline              1.6      sedan         False     owned   \n",
       "2    gasoline    gasoline              1.6  hatchback         False     owned   \n",
       "3    gasoline    gasoline              1.8  hatchback         False     owned   \n",
       "4    gasoline    gasoline              2.0      sedan         False     owned   \n",
       "\n",
       "  type_of_drive  is_exchangeable  number_of_photos  number_of_maintenance  \\\n",
       "0         front             True                17                     38   \n",
       "1         front            False                 9                      3   \n",
       "2         front            False                 5                     10   \n",
       "3         front            False                10                      4   \n",
       "4         front             True                 5                      7   \n",
       "\n",
       "   duration_listed  price_usd  \n",
       "0               67    13150.0  \n",
       "1              100     7500.0  \n",
       "2               91    12200.0  \n",
       "3               91     4950.0  \n",
       "4               62     3000.0  "
      ]
     },
     "metadata": {},
     "output_type": "display_data"
    },
    {
     "data": {
      "text/html": [
       "<div>\n",
       "<style scoped>\n",
       "    .dataframe tbody tr th:only-of-type {\n",
       "        vertical-align: middle;\n",
       "    }\n",
       "\n",
       "    .dataframe tbody tr th {\n",
       "        vertical-align: top;\n",
       "    }\n",
       "\n",
       "    .dataframe thead th {\n",
       "        text-align: right;\n",
       "    }\n",
       "</style>\n",
       "<table border=\"1\" class=\"dataframe\">\n",
       "  <thead>\n",
       "    <tr style=\"text-align: right;\">\n",
       "      <th></th>\n",
       "      <th>manufacturer_name</th>\n",
       "      <th>transmission</th>\n",
       "      <th>color</th>\n",
       "      <th>odometer_value</th>\n",
       "      <th>year_produced</th>\n",
       "      <th>engine_fuel</th>\n",
       "      <th>engine_type</th>\n",
       "      <th>engine_capacity</th>\n",
       "      <th>body_type</th>\n",
       "      <th>has_warranty</th>\n",
       "      <th>ownership</th>\n",
       "      <th>type_of_drive</th>\n",
       "      <th>is_exchangeable</th>\n",
       "      <th>number_of_photos</th>\n",
       "      <th>number_of_maintenance</th>\n",
       "      <th>duration_listed</th>\n",
       "      <th>price_usd</th>\n",
       "    </tr>\n",
       "  </thead>\n",
       "  <tbody>\n",
       "    <tr>\n",
       "      <th>0</th>\n",
       "      <td>BMW</td>\n",
       "      <td>automatic</td>\n",
       "      <td>white</td>\n",
       "      <td>115000</td>\n",
       "      <td>2012</td>\n",
       "      <td>gasoline</td>\n",
       "      <td>gasoline</td>\n",
       "      <td>4.4</td>\n",
       "      <td>sedan</td>\n",
       "      <td>False</td>\n",
       "      <td>owned</td>\n",
       "      <td>all</td>\n",
       "      <td>True</td>\n",
       "      <td>32</td>\n",
       "      <td>104</td>\n",
       "      <td>146</td>\n",
       "      <td>20450.0</td>\n",
       "    </tr>\n",
       "    <tr>\n",
       "      <th>1</th>\n",
       "      <td>Mercedes-Benz</td>\n",
       "      <td>manual</td>\n",
       "      <td>other</td>\n",
       "      <td>500000</td>\n",
       "      <td>1999</td>\n",
       "      <td>diesel</td>\n",
       "      <td>diesel</td>\n",
       "      <td>2.2</td>\n",
       "      <td>sedan</td>\n",
       "      <td>False</td>\n",
       "      <td>owned</td>\n",
       "      <td>rear</td>\n",
       "      <td>False</td>\n",
       "      <td>7</td>\n",
       "      <td>9</td>\n",
       "      <td>147</td>\n",
       "      <td>2600.0</td>\n",
       "    </tr>\n",
       "    <tr>\n",
       "      <th>2</th>\n",
       "      <td>Fiat</td>\n",
       "      <td>manual</td>\n",
       "      <td>silver</td>\n",
       "      <td>210000</td>\n",
       "      <td>2002</td>\n",
       "      <td>gasoline</td>\n",
       "      <td>gasoline</td>\n",
       "      <td>1.2</td>\n",
       "      <td>hatchback</td>\n",
       "      <td>False</td>\n",
       "      <td>owned</td>\n",
       "      <td>front</td>\n",
       "      <td>True</td>\n",
       "      <td>16</td>\n",
       "      <td>7</td>\n",
       "      <td>27</td>\n",
       "      <td>2900.0</td>\n",
       "    </tr>\n",
       "    <tr>\n",
       "      <th>3</th>\n",
       "      <td>Mitsubishi</td>\n",
       "      <td>automatic</td>\n",
       "      <td>violet</td>\n",
       "      <td>294000</td>\n",
       "      <td>2000</td>\n",
       "      <td>diesel</td>\n",
       "      <td>diesel</td>\n",
       "      <td>3.2</td>\n",
       "      <td>suv</td>\n",
       "      <td>False</td>\n",
       "      <td>owned</td>\n",
       "      <td>all</td>\n",
       "      <td>True</td>\n",
       "      <td>10</td>\n",
       "      <td>2</td>\n",
       "      <td>48</td>\n",
       "      <td>7500.0</td>\n",
       "    </tr>\n",
       "    <tr>\n",
       "      <th>4</th>\n",
       "      <td>Opel</td>\n",
       "      <td>automatic</td>\n",
       "      <td>blue</td>\n",
       "      <td>244000</td>\n",
       "      <td>1998</td>\n",
       "      <td>gasoline</td>\n",
       "      <td>gasoline</td>\n",
       "      <td>1.6</td>\n",
       "      <td>sedan</td>\n",
       "      <td>False</td>\n",
       "      <td>owned</td>\n",
       "      <td>front</td>\n",
       "      <td>False</td>\n",
       "      <td>9</td>\n",
       "      <td>10</td>\n",
       "      <td>116</td>\n",
       "      <td>2200.0</td>\n",
       "    </tr>\n",
       "  </tbody>\n",
       "</table>\n",
       "</div>"
      ],
      "text/plain": [
       "  manufacturer_name transmission   color  odometer_value  year_produced  \\\n",
       "0               BMW    automatic   white          115000           2012   \n",
       "1     Mercedes-Benz       manual   other          500000           1999   \n",
       "2              Fiat       manual  silver          210000           2002   \n",
       "3        Mitsubishi    automatic  violet          294000           2000   \n",
       "4              Opel    automatic    blue          244000           1998   \n",
       "\n",
       "  engine_fuel engine_type  engine_capacity  body_type  has_warranty ownership  \\\n",
       "0    gasoline    gasoline              4.4      sedan         False     owned   \n",
       "1      diesel      diesel              2.2      sedan         False     owned   \n",
       "2    gasoline    gasoline              1.2  hatchback         False     owned   \n",
       "3      diesel      diesel              3.2        suv         False     owned   \n",
       "4    gasoline    gasoline              1.6      sedan         False     owned   \n",
       "\n",
       "  type_of_drive  is_exchangeable  number_of_photos  number_of_maintenance  \\\n",
       "0           all             True                32                    104   \n",
       "1          rear            False                 7                      9   \n",
       "2         front             True                16                      7   \n",
       "3           all             True                10                      2   \n",
       "4         front            False                 9                     10   \n",
       "\n",
       "   duration_listed  price_usd  \n",
       "0              146    20450.0  \n",
       "1              147     2600.0  \n",
       "2               27     2900.0  \n",
       "3               48     7500.0  \n",
       "4              116     2200.0  "
      ]
     },
     "metadata": {},
     "output_type": "display_data"
    }
   ],
   "source": [
    "display(df_train.head())\n",
    "display(df_test.head())"
   ]
  },
  {
   "cell_type": "code",
   "execution_count": 4,
   "id": "10ae1562",
   "metadata": {},
   "outputs": [
    {
     "data": {
      "text/plain": [
       "False    49429\n",
       "True       571\n",
       "Name: has_warranty, dtype: int64"
      ]
     },
     "execution_count": 4,
     "metadata": {},
     "output_type": "execute_result"
    }
   ],
   "source": [
    "df_train['has_warranty'].value_counts()"
   ]
  },
  {
   "cell_type": "markdown",
   "id": "41083558",
   "metadata": {},
   "source": [
    "<p><strong><span style=\"font-size: 24px;\">Problem description:</span></strong></p>\n",
    "<p>You have a dataset of used cars&apos; attributes and their prices, the task is to construct a model that predicts the price of a given vehicle.</p>\n",
    "<p>We start first with Exploratory Data Analysis.</p>"
   ]
  },
  {
   "cell_type": "code",
   "execution_count": 5,
   "id": "9ff620e7",
   "metadata": {},
   "outputs": [
    {
     "name": "stdout",
     "output_type": "stream",
     "text": [
      "(50000, 17)\n",
      "(27000, 17)\n"
     ]
    }
   ],
   "source": [
    "print(df_train.shape)\n",
    "print(df_test.shape)"
   ]
  },
  {
   "cell_type": "code",
   "execution_count": 6,
   "id": "c35247e5",
   "metadata": {},
   "outputs": [
    {
     "data": {
      "text/plain": [
       "manufacturer_name         object\n",
       "transmission              object\n",
       "color                     object\n",
       "odometer_value             int64\n",
       "year_produced              int64\n",
       "engine_fuel               object\n",
       "engine_type               object\n",
       "engine_capacity          float64\n",
       "body_type                 object\n",
       "has_warranty                bool\n",
       "ownership                 object\n",
       "type_of_drive             object\n",
       "is_exchangeable             bool\n",
       "number_of_photos           int64\n",
       "number_of_maintenance      int64\n",
       "duration_listed            int64\n",
       "price_usd                float64\n",
       "dtype: object"
      ]
     },
     "execution_count": 6,
     "metadata": {},
     "output_type": "execute_result"
    }
   ],
   "source": [
    "df_train.dtypes"
   ]
  },
  {
   "cell_type": "markdown",
   "id": "1d8e7d64",
   "metadata": {},
   "source": [
    "## 8 features are categorical while the remaining are numerical"
   ]
  },
  {
   "cell_type": "code",
   "execution_count": 7,
   "id": "9c38174e",
   "metadata": {},
   "outputs": [
    {
     "data": {
      "text/plain": [
       "Index(['manufacturer_name', 'transmission', 'color', 'odometer_value',\n",
       "       'year_produced', 'engine_fuel', 'engine_type', 'engine_capacity',\n",
       "       'body_type', 'has_warranty', 'ownership', 'type_of_drive',\n",
       "       'is_exchangeable', 'number_of_photos', 'number_of_maintenance',\n",
       "       'duration_listed', 'price_usd'],\n",
       "      dtype='object')"
      ]
     },
     "execution_count": 7,
     "metadata": {},
     "output_type": "execute_result"
    }
   ],
   "source": [
    "df_train.columns"
   ]
  },
  {
   "cell_type": "code",
   "execution_count": 8,
   "id": "b08042ef",
   "metadata": {},
   "outputs": [
    {
     "data": {
      "text/html": [
       "<div>\n",
       "<style scoped>\n",
       "    .dataframe tbody tr th:only-of-type {\n",
       "        vertical-align: middle;\n",
       "    }\n",
       "\n",
       "    .dataframe tbody tr th {\n",
       "        vertical-align: top;\n",
       "    }\n",
       "\n",
       "    .dataframe thead th {\n",
       "        text-align: right;\n",
       "    }\n",
       "</style>\n",
       "<table border=\"1\" class=\"dataframe\">\n",
       "  <thead>\n",
       "    <tr style=\"text-align: right;\">\n",
       "      <th></th>\n",
       "      <th>odometer_value</th>\n",
       "      <th>year_produced</th>\n",
       "      <th>engine_capacity</th>\n",
       "      <th>number_of_photos</th>\n",
       "      <th>number_of_maintenance</th>\n",
       "      <th>duration_listed</th>\n",
       "      <th>price_usd</th>\n",
       "    </tr>\n",
       "  </thead>\n",
       "  <tbody>\n",
       "    <tr>\n",
       "      <th>count</th>\n",
       "      <td>50000.000000</td>\n",
       "      <td>50000.000000</td>\n",
       "      <td>49985.000000</td>\n",
       "      <td>50000.000000</td>\n",
       "      <td>50000.000000</td>\n",
       "      <td>50000.000000</td>\n",
       "      <td>50000.000000</td>\n",
       "    </tr>\n",
       "    <tr>\n",
       "      <th>mean</th>\n",
       "      <td>249219.881980</td>\n",
       "      <td>2002.945620</td>\n",
       "      <td>2.056894</td>\n",
       "      <td>9.662420</td>\n",
       "      <td>16.256940</td>\n",
       "      <td>80.739440</td>\n",
       "      <td>6654.891274</td>\n",
       "    </tr>\n",
       "    <tr>\n",
       "      <th>std</th>\n",
       "      <td>136361.343789</td>\n",
       "      <td>8.067141</td>\n",
       "      <td>0.675106</td>\n",
       "      <td>6.145263</td>\n",
       "      <td>41.537349</td>\n",
       "      <td>113.606476</td>\n",
       "      <td>6467.096697</td>\n",
       "    </tr>\n",
       "    <tr>\n",
       "      <th>min</th>\n",
       "      <td>0.000000</td>\n",
       "      <td>1942.000000</td>\n",
       "      <td>0.200000</td>\n",
       "      <td>1.000000</td>\n",
       "      <td>1.000000</td>\n",
       "      <td>0.000000</td>\n",
       "      <td>1.000000</td>\n",
       "    </tr>\n",
       "    <tr>\n",
       "      <th>25%</th>\n",
       "      <td>158000.000000</td>\n",
       "      <td>1998.000000</td>\n",
       "      <td>1.600000</td>\n",
       "      <td>5.000000</td>\n",
       "      <td>2.000000</td>\n",
       "      <td>23.000000</td>\n",
       "      <td>2100.000000</td>\n",
       "    </tr>\n",
       "    <tr>\n",
       "      <th>50%</th>\n",
       "      <td>250000.000000</td>\n",
       "      <td>2003.000000</td>\n",
       "      <td>2.000000</td>\n",
       "      <td>8.000000</td>\n",
       "      <td>5.000000</td>\n",
       "      <td>59.000000</td>\n",
       "      <td>4800.000000</td>\n",
       "    </tr>\n",
       "    <tr>\n",
       "      <th>75%</th>\n",
       "      <td>325000.000000</td>\n",
       "      <td>2009.000000</td>\n",
       "      <td>2.300000</td>\n",
       "      <td>12.000000</td>\n",
       "      <td>16.000000</td>\n",
       "      <td>91.000000</td>\n",
       "      <td>8990.000000</td>\n",
       "    </tr>\n",
       "    <tr>\n",
       "      <th>max</th>\n",
       "      <td>1000000.000000</td>\n",
       "      <td>2019.000000</td>\n",
       "      <td>8.000000</td>\n",
       "      <td>86.000000</td>\n",
       "      <td>1273.000000</td>\n",
       "      <td>2232.000000</td>\n",
       "      <td>50000.000000</td>\n",
       "    </tr>\n",
       "  </tbody>\n",
       "</table>\n",
       "</div>"
      ],
      "text/plain": [
       "       odometer_value  year_produced  engine_capacity  number_of_photos  \\\n",
       "count    50000.000000   50000.000000     49985.000000      50000.000000   \n",
       "mean    249219.881980    2002.945620         2.056894          9.662420   \n",
       "std     136361.343789       8.067141         0.675106          6.145263   \n",
       "min          0.000000    1942.000000         0.200000          1.000000   \n",
       "25%     158000.000000    1998.000000         1.600000          5.000000   \n",
       "50%     250000.000000    2003.000000         2.000000          8.000000   \n",
       "75%     325000.000000    2009.000000         2.300000         12.000000   \n",
       "max    1000000.000000    2019.000000         8.000000         86.000000   \n",
       "\n",
       "       number_of_maintenance  duration_listed     price_usd  \n",
       "count           50000.000000     50000.000000  50000.000000  \n",
       "mean               16.256940        80.739440   6654.891274  \n",
       "std                41.537349       113.606476   6467.096697  \n",
       "min                 1.000000         0.000000      1.000000  \n",
       "25%                 2.000000        23.000000   2100.000000  \n",
       "50%                 5.000000        59.000000   4800.000000  \n",
       "75%                16.000000        91.000000   8990.000000  \n",
       "max              1273.000000      2232.000000  50000.000000  "
      ]
     },
     "execution_count": 8,
     "metadata": {},
     "output_type": "execute_result"
    }
   ],
   "source": [
    "df_train.describe()"
   ]
  },
  {
   "cell_type": "code",
   "execution_count": 9,
   "id": "3d854295",
   "metadata": {},
   "outputs": [
    {
     "data": {
      "text/plain": [
       "[]"
      ]
     },
     "execution_count": 9,
     "metadata": {},
     "output_type": "execute_result"
    },
    {
     "data": {
      "image/png": "[encoded data removed]",
      "text/plain": [
       "<Figure size 432x288 with 1 Axes>"
      ]
     },
     "metadata": {
      "needs_background": "light"
     },
     "output_type": "display_data"
    }
   ],
   "source": [
    "import matplotlib.pyplot as plt\n",
    "#Histogram of sales price\n",
    "plt.hist(df_train['price_usd'])\n",
    "plt.plot()"
   ]
  },
  {
   "cell_type": "markdown",
   "id": "89e102a9",
   "metadata": {},
   "source": [
    "## Majority of the values lie between 25% and 50% percentile"
   ]
  },
  {
   "cell_type": "code",
   "execution_count": 10,
   "id": "741c698f",
   "metadata": {},
   "outputs": [
    {
     "data": {
      "text/plain": [
       "<AxesSubplot:xlabel='duration_listed', ylabel='price_usd'>"
      ]
     },
     "execution_count": 10,
     "metadata": {},
     "output_type": "execute_result"
    },
    {
     "data": {
      "image/png": "[encoded data removed]",
      "text/plain": [
       "<Figure size 432x288 with 1 Axes>"
      ]
     },
     "metadata": {
      "needs_background": "light"
     },
     "output_type": "display_data"
    }
   ],
   "source": [
    "#Scatter plot with duration_listed\n",
    "sns.scatterplot(x='duration_listed', y='price_usd', data=df_train)"
   ]
  },
  {
   "cell_type": "code",
   "execution_count": 11,
   "id": "ee959679",
   "metadata": {},
   "outputs": [
    {
     "data": {
      "image/png": "[encoded data removed]",
      "text/plain": [
       "<Figure size 1152x576 with 1 Axes>"
      ]
     },
     "metadata": {
      "needs_background": "light"
     },
     "output_type": "display_data"
    }
   ],
   "source": [
    "var = 'year_produced'\n",
    "\n",
    "plt.subplots(figsize=(16, 8))\n",
    "sns.boxplot(x = var, y = 'price_usd', data=df_train)\n",
    "plt.title(var)   #matplotlib and seaborn work together in some cases\n",
    "plt.xticks(rotation=90)\n",
    "#plt.ylim(0, 800000) \n",
    "plt.show()"
   ]
  },
  {
   "cell_type": "markdown",
   "id": "9f87b22f",
   "metadata": {},
   "source": [
    "## Cars produced 2010 and later have the highest mean prices and outliers. "
   ]
  },
  {
   "cell_type": "code",
   "execution_count": 12,
   "id": "85dff9df",
   "metadata": {},
   "outputs": [
    {
     "data": {
      "image/png": "[encoded data removed]",
      "text/plain": [
       "<Figure size 432x288 with 1 Axes>"
      ]
     },
     "metadata": {
      "needs_background": "light"
     },
     "output_type": "display_data"
    }
   ],
   "source": [
    "#Box plot for engine type with price\n",
    "\n",
    "ax = sns.boxplot(x=\"engine_type\", y=\"price_usd\", data=df_train)"
   ]
  },
  {
   "cell_type": "code",
   "execution_count": 13,
   "id": "419de469",
   "metadata": {},
   "outputs": [
    {
     "data": {
      "image/png": "[encoded data removed]",
      "text/plain": [
       "<Figure size 1152x576 with 1 Axes>"
      ]
     },
     "metadata": {
      "needs_background": "light"
     },
     "output_type": "display_data"
    }
   ],
   "source": [
    "#Box plot for body type with price\n",
    "plt.subplots(figsize=(16, 8))\n",
    "ax = sns.boxplot(x=\"body_type\", y=\"price_usd\", data=df_train)"
   ]
  },
  {
   "cell_type": "markdown",
   "id": "461047ab",
   "metadata": {},
   "source": [
    "## SUV and pickups seem to have the highest mean, thus more in demand."
   ]
  },
  {
   "cell_type": "markdown",
   "id": "3c5ceb70",
   "metadata": {},
   "source": [
    "# Checking correlation through heatmap"
   ]
  },
  {
   "cell_type": "code",
   "execution_count": 14,
   "id": "396bd6ce",
   "metadata": {},
   "outputs": [
    {
     "data": {
      "image/png": "[encoded data removed]",
      "text/plain": [
       "<Figure size 864x576 with 2 Axes>"
      ]
     },
     "metadata": {
      "needs_background": "light"
     },
     "output_type": "display_data"
    }
   ],
   "source": [
    "corr = df_train.corr()\n",
    "fig, ax = plt.subplots(figsize=(12,8))   \n",
    "sns.heatmap(corr,annot=True\n",
    "           )\n",
    "plt.show()\n"
   ]
  },
  {
   "cell_type": "markdown",
   "id": "11f9e34d",
   "metadata": {},
   "source": [
    "<p>Correlation heatmap:</p>\n",
    "<ol>\n",
    "    <li>Odometer and price have an extreme negative correlation, naturally.</li>\n",
    "    <li>Year produced have also negative correlation, however, through the box plot earlier we see the relationship is non-linear due to old vehicles of 1960 being considered vintage or collectible with high prices relatively.</li>\n",
    "    <li>Duration listed &amp; the number of maintenance have a positive correlation, naturally as vehicles with a high number of maintenance undesirable by customers.</li>\n",
    "</ol>\n",
    "<p><br></p>"
   ]
  },
  {
   "cell_type": "code",
   "execution_count": 15,
   "id": "f1cef8f8",
   "metadata": {},
   "outputs": [
    {
     "data": {
      "text/html": [
       "<div>\n",
       "<style scoped>\n",
       "    .dataframe tbody tr th:only-of-type {\n",
       "        vertical-align: middle;\n",
       "    }\n",
       "\n",
       "    .dataframe tbody tr th {\n",
       "        vertical-align: top;\n",
       "    }\n",
       "\n",
       "    .dataframe thead th {\n",
       "        text-align: right;\n",
       "    }\n",
       "</style>\n",
       "<table border=\"1\" class=\"dataframe\">\n",
       "  <thead>\n",
       "    <tr style=\"text-align: right;\">\n",
       "      <th></th>\n",
       "      <th>Total</th>\n",
       "      <th>Percent</th>\n",
       "    </tr>\n",
       "  </thead>\n",
       "  <tbody>\n",
       "    <tr>\n",
       "      <th>engine_capacity</th>\n",
       "      <td>15</td>\n",
       "      <td>0.0003</td>\n",
       "    </tr>\n",
       "    <tr>\n",
       "      <th>manufacturer_name</th>\n",
       "      <td>0</td>\n",
       "      <td>0.0000</td>\n",
       "    </tr>\n",
       "    <tr>\n",
       "      <th>has_warranty</th>\n",
       "      <td>0</td>\n",
       "      <td>0.0000</td>\n",
       "    </tr>\n",
       "    <tr>\n",
       "      <th>duration_listed</th>\n",
       "      <td>0</td>\n",
       "      <td>0.0000</td>\n",
       "    </tr>\n",
       "    <tr>\n",
       "      <th>number_of_maintenance</th>\n",
       "      <td>0</td>\n",
       "      <td>0.0000</td>\n",
       "    </tr>\n",
       "    <tr>\n",
       "      <th>number_of_photos</th>\n",
       "      <td>0</td>\n",
       "      <td>0.0000</td>\n",
       "    </tr>\n",
       "    <tr>\n",
       "      <th>is_exchangeable</th>\n",
       "      <td>0</td>\n",
       "      <td>0.0000</td>\n",
       "    </tr>\n",
       "    <tr>\n",
       "      <th>type_of_drive</th>\n",
       "      <td>0</td>\n",
       "      <td>0.0000</td>\n",
       "    </tr>\n",
       "    <tr>\n",
       "      <th>ownership</th>\n",
       "      <td>0</td>\n",
       "      <td>0.0000</td>\n",
       "    </tr>\n",
       "    <tr>\n",
       "      <th>body_type</th>\n",
       "      <td>0</td>\n",
       "      <td>0.0000</td>\n",
       "    </tr>\n",
       "    <tr>\n",
       "      <th>transmission</th>\n",
       "      <td>0</td>\n",
       "      <td>0.0000</td>\n",
       "    </tr>\n",
       "    <tr>\n",
       "      <th>engine_type</th>\n",
       "      <td>0</td>\n",
       "      <td>0.0000</td>\n",
       "    </tr>\n",
       "    <tr>\n",
       "      <th>engine_fuel</th>\n",
       "      <td>0</td>\n",
       "      <td>0.0000</td>\n",
       "    </tr>\n",
       "    <tr>\n",
       "      <th>year_produced</th>\n",
       "      <td>0</td>\n",
       "      <td>0.0000</td>\n",
       "    </tr>\n",
       "    <tr>\n",
       "      <th>odometer_value</th>\n",
       "      <td>0</td>\n",
       "      <td>0.0000</td>\n",
       "    </tr>\n",
       "    <tr>\n",
       "      <th>color</th>\n",
       "      <td>0</td>\n",
       "      <td>0.0000</td>\n",
       "    </tr>\n",
       "    <tr>\n",
       "      <th>price_usd</th>\n",
       "      <td>0</td>\n",
       "      <td>0.0000</td>\n",
       "    </tr>\n",
       "  </tbody>\n",
       "</table>\n",
       "</div>"
      ],
      "text/plain": [
       "                       Total  Percent\n",
       "engine_capacity           15   0.0003\n",
       "manufacturer_name          0   0.0000\n",
       "has_warranty               0   0.0000\n",
       "duration_listed            0   0.0000\n",
       "number_of_maintenance      0   0.0000\n",
       "number_of_photos           0   0.0000\n",
       "is_exchangeable            0   0.0000\n",
       "type_of_drive              0   0.0000\n",
       "ownership                  0   0.0000\n",
       "body_type                  0   0.0000\n",
       "transmission               0   0.0000\n",
       "engine_type                0   0.0000\n",
       "engine_fuel                0   0.0000\n",
       "year_produced              0   0.0000\n",
       "odometer_value             0   0.0000\n",
       "color                      0   0.0000\n",
       "price_usd                  0   0.0000"
      ]
     },
     "execution_count": 15,
     "metadata": {},
     "output_type": "execute_result"
    }
   ],
   "source": [
    "# Finding out missing data \n",
    "missing = df_train.isnull().sum().sort_values(ascending=False)\n",
    "percentage = missing/len(df_train['price_usd'])\n",
    "missing_data = pd.concat([missing, percentage], axis = 1, keys=['Total', 'Percent'])\n",
    "missing_data.head(20)"
   ]
  },
  {
   "cell_type": "code",
   "execution_count": 16,
   "id": "7d99c747",
   "metadata": {},
   "outputs": [],
   "source": [
    "#drop the rows that have a null value, since they represent 0.0003 % of the data.\n",
    "df_train= df_train.dropna(how = 'any')"
   ]
  },
  {
   "cell_type": "markdown",
   "id": "ba62341b",
   "metadata": {},
   "source": [
    "# Prepare the data for processing."
   ]
  },
  {
   "cell_type": "code",
   "execution_count": 17,
   "id": "ccfeccb0",
   "metadata": {},
   "outputs": [],
   "source": [
    "# Seperate the features and labels\n",
    "x = df_train.drop(['price_usd'], axis = 1)\n",
    "y = df_train['price_usd']"
   ]
  },
  {
   "cell_type": "markdown",
   "id": "f47c7579",
   "metadata": {},
   "source": [
    "<p>Our plan to predict the price will be as follows:</p>\n",
    "<ol>\n",
    "    <li>Encode the categorical variables and normalize the values.</li>\n",
    "    <li>Apply Feature Selection algorithm to improve the performance. reference: <a aria-label=\"Persistent link using digital object identifier\" class=\"doi\" href=\"https://doi.org/10.1016/j.protcy.2012.02.068\" rel=\"noreferrer noopener\" style='box-sizing: border-box; margin: 0px; padding: 0px; background-color: transparent; text-decoration: none; color: rgb(12, 125, 187); word-break: break-word; font-family: NexusSans, Arial, Helvetica, \"Lucida Sans Unicode\", \"Microsoft Sans Serif\", \"Segoe UI Symbol\", STIXGeneral, \"Cambria Math\", \"Arial Unicode MS\", sans-serif; font-size: 14px; font-style: normal; font-variant-ligatures: normal; font-variant-caps: normal; font-weight: 400; letter-spacing: normal; orphans: 2; text-align: start; text-indent: 0px; text-transform: none; white-space: normal; widows: 2; word-spacing: 0px; -webkit-text-stroke-width: 0px;' target=\"_blank\" title=\"Persistent link using digital object identifier\">https://doi.org/10.1016/j.protcy.2012.02.068</a></li>\n",
    "    <li>Construct & Train different models: Neural Network, SVM, Random Forest, and CatBoost.</li>\n",
    "    <li>Evaluate Results.</li>\n",
    "</ol>\n",
    "<p><br></p>"
   ]
  },
  {
   "cell_type": "markdown",
   "id": "69057028",
   "metadata": {},
   "source": [
    "# Step 1: Categorical Encoding"
   ]
  },
  {
   "cell_type": "code",
   "execution_count": 18,
   "id": "c8bee0df",
   "metadata": {},
   "outputs": [
    {
     "data": {
      "text/html": [
       "<div>\n",
       "<style scoped>\n",
       "    .dataframe tbody tr th:only-of-type {\n",
       "        vertical-align: middle;\n",
       "    }\n",
       "\n",
       "    .dataframe tbody tr th {\n",
       "        vertical-align: top;\n",
       "    }\n",
       "\n",
       "    .dataframe thead th {\n",
       "        text-align: right;\n",
       "    }\n",
       "</style>\n",
       "<table border=\"1\" class=\"dataframe\">\n",
       "  <thead>\n",
       "    <tr style=\"text-align: right;\">\n",
       "      <th></th>\n",
       "      <th>manufacturer_name</th>\n",
       "      <th>transmission</th>\n",
       "      <th>color</th>\n",
       "      <th>odometer_value</th>\n",
       "      <th>year_produced</th>\n",
       "      <th>engine_fuel</th>\n",
       "      <th>engine_type</th>\n",
       "      <th>engine_capacity</th>\n",
       "      <th>body_type</th>\n",
       "      <th>has_warranty</th>\n",
       "      <th>ownership</th>\n",
       "      <th>type_of_drive</th>\n",
       "      <th>is_exchangeable</th>\n",
       "      <th>number_of_photos</th>\n",
       "      <th>number_of_maintenance</th>\n",
       "      <th>duration_listed</th>\n",
       "    </tr>\n",
       "  </thead>\n",
       "  <tbody>\n",
       "    <tr>\n",
       "      <th>0</th>\n",
       "      <td>1</td>\n",
       "      <td>1</td>\n",
       "      <td>1</td>\n",
       "      <td>130000</td>\n",
       "      <td>2016</td>\n",
       "      <td>1</td>\n",
       "      <td>1</td>\n",
       "      <td>1.6</td>\n",
       "      <td>1</td>\n",
       "      <td>False</td>\n",
       "      <td>1</td>\n",
       "      <td>1</td>\n",
       "      <td>True</td>\n",
       "      <td>17</td>\n",
       "      <td>38</td>\n",
       "      <td>67</td>\n",
       "    </tr>\n",
       "    <tr>\n",
       "      <th>1</th>\n",
       "      <td>2</td>\n",
       "      <td>2</td>\n",
       "      <td>2</td>\n",
       "      <td>149000</td>\n",
       "      <td>2012</td>\n",
       "      <td>2</td>\n",
       "      <td>2</td>\n",
       "      <td>1.6</td>\n",
       "      <td>2</td>\n",
       "      <td>False</td>\n",
       "      <td>1</td>\n",
       "      <td>1</td>\n",
       "      <td>False</td>\n",
       "      <td>9</td>\n",
       "      <td>3</td>\n",
       "      <td>100</td>\n",
       "    </tr>\n",
       "    <tr>\n",
       "      <th>2</th>\n",
       "      <td>3</td>\n",
       "      <td>1</td>\n",
       "      <td>2</td>\n",
       "      <td>110000</td>\n",
       "      <td>2014</td>\n",
       "      <td>2</td>\n",
       "      <td>2</td>\n",
       "      <td>1.6</td>\n",
       "      <td>3</td>\n",
       "      <td>False</td>\n",
       "      <td>1</td>\n",
       "      <td>1</td>\n",
       "      <td>False</td>\n",
       "      <td>5</td>\n",
       "      <td>10</td>\n",
       "      <td>91</td>\n",
       "    </tr>\n",
       "    <tr>\n",
       "      <th>3</th>\n",
       "      <td>4</td>\n",
       "      <td>1</td>\n",
       "      <td>3</td>\n",
       "      <td>255100</td>\n",
       "      <td>2007</td>\n",
       "      <td>2</td>\n",
       "      <td>2</td>\n",
       "      <td>1.8</td>\n",
       "      <td>3</td>\n",
       "      <td>False</td>\n",
       "      <td>1</td>\n",
       "      <td>1</td>\n",
       "      <td>False</td>\n",
       "      <td>10</td>\n",
       "      <td>4</td>\n",
       "      <td>91</td>\n",
       "    </tr>\n",
       "    <tr>\n",
       "      <th>4</th>\n",
       "      <td>5</td>\n",
       "      <td>2</td>\n",
       "      <td>4</td>\n",
       "      <td>650000</td>\n",
       "      <td>1999</td>\n",
       "      <td>2</td>\n",
       "      <td>2</td>\n",
       "      <td>2.0</td>\n",
       "      <td>2</td>\n",
       "      <td>False</td>\n",
       "      <td>1</td>\n",
       "      <td>1</td>\n",
       "      <td>True</td>\n",
       "      <td>5</td>\n",
       "      <td>7</td>\n",
       "      <td>62</td>\n",
       "    </tr>\n",
       "  </tbody>\n",
       "</table>\n",
       "</div>"
      ],
      "text/plain": [
       "   manufacturer_name  transmission  color  odometer_value  year_produced  \\\n",
       "0                  1             1      1          130000           2016   \n",
       "1                  2             2      2          149000           2012   \n",
       "2                  3             1      2          110000           2014   \n",
       "3                  4             1      3          255100           2007   \n",
       "4                  5             2      4          650000           1999   \n",
       "\n",
       "   engine_fuel  engine_type  engine_capacity  body_type  has_warranty  \\\n",
       "0            1            1              1.6          1         False   \n",
       "1            2            2              1.6          2         False   \n",
       "2            2            2              1.6          3         False   \n",
       "3            2            2              1.8          3         False   \n",
       "4            2            2              2.0          2         False   \n",
       "\n",
       "   ownership  type_of_drive  is_exchangeable  number_of_photos  \\\n",
       "0          1              1             True                17   \n",
       "1          1              1            False                 9   \n",
       "2          1              1            False                 5   \n",
       "3          1              1            False                10   \n",
       "4          1              1             True                 5   \n",
       "\n",
       "   number_of_maintenance  duration_listed  \n",
       "0                     38               67  \n",
       "1                      3              100  \n",
       "2                     10               91  \n",
       "3                      4               91  \n",
       "4                      7               62  "
      ]
     },
     "execution_count": 18,
     "metadata": {},
     "output_type": "execute_result"
    }
   ],
   "source": [
    "import category_encoders as encoders\n",
    "cat_columns= ['manufacturer_name', 'transmission', 'color', 'engine_fuel',\n",
    "              'engine_type', 'body_type', 'ownership', 'type_of_drive']\n",
    "#Ordinal encoder will be used\n",
    "enc_ordinal = encoders.OrdinalEncoder( cols = cat_columns ,verbose=1)\n",
    "# Transforming the data\n",
    "x_ordinal_enc= enc_ordinal.fit_transform(x)\n",
    "x_ordinal_enc.head()\n",
    "                                    \n",
    "                               "
   ]
  },
  {
   "cell_type": "code",
   "execution_count": 19,
   "id": "e6068331",
   "metadata": {},
   "outputs": [
    {
     "data": {
      "text/html": [
       "<div>\n",
       "<style scoped>\n",
       "    .dataframe tbody tr th:only-of-type {\n",
       "        vertical-align: middle;\n",
       "    }\n",
       "\n",
       "    .dataframe tbody tr th {\n",
       "        vertical-align: top;\n",
       "    }\n",
       "\n",
       "    .dataframe thead th {\n",
       "        text-align: right;\n",
       "    }\n",
       "</style>\n",
       "<table border=\"1\" class=\"dataframe\">\n",
       "  <thead>\n",
       "    <tr style=\"text-align: right;\">\n",
       "      <th></th>\n",
       "      <th>manufacturer_name</th>\n",
       "      <th>transmission</th>\n",
       "      <th>color</th>\n",
       "      <th>odometer_value</th>\n",
       "      <th>year_produced</th>\n",
       "      <th>engine_fuel</th>\n",
       "      <th>engine_type</th>\n",
       "      <th>engine_capacity</th>\n",
       "      <th>body_type</th>\n",
       "      <th>has_warranty</th>\n",
       "      <th>ownership</th>\n",
       "      <th>type_of_drive</th>\n",
       "      <th>is_exchangeable</th>\n",
       "      <th>number_of_photos</th>\n",
       "      <th>number_of_maintenance</th>\n",
       "      <th>duration_listed</th>\n",
       "    </tr>\n",
       "  </thead>\n",
       "  <tbody>\n",
       "    <tr>\n",
       "      <th>0</th>\n",
       "      <td>0.000000</td>\n",
       "      <td>0.0</td>\n",
       "      <td>0.000000</td>\n",
       "      <td>0.1300</td>\n",
       "      <td>0.961039</td>\n",
       "      <td>0.00</td>\n",
       "      <td>0.0</td>\n",
       "      <td>0.179487</td>\n",
       "      <td>0.000000</td>\n",
       "      <td>0.0</td>\n",
       "      <td>0.0</td>\n",
       "      <td>0.0</td>\n",
       "      <td>1.0</td>\n",
       "      <td>0.188235</td>\n",
       "      <td>0.029088</td>\n",
       "      <td>0.030018</td>\n",
       "    </tr>\n",
       "    <tr>\n",
       "      <th>1</th>\n",
       "      <td>0.018519</td>\n",
       "      <td>1.0</td>\n",
       "      <td>0.090909</td>\n",
       "      <td>0.1490</td>\n",
       "      <td>0.909091</td>\n",
       "      <td>0.25</td>\n",
       "      <td>1.0</td>\n",
       "      <td>0.179487</td>\n",
       "      <td>0.090909</td>\n",
       "      <td>0.0</td>\n",
       "      <td>0.0</td>\n",
       "      <td>0.0</td>\n",
       "      <td>0.0</td>\n",
       "      <td>0.094118</td>\n",
       "      <td>0.001572</td>\n",
       "      <td>0.044803</td>\n",
       "    </tr>\n",
       "    <tr>\n",
       "      <th>2</th>\n",
       "      <td>0.037037</td>\n",
       "      <td>0.0</td>\n",
       "      <td>0.090909</td>\n",
       "      <td>0.1100</td>\n",
       "      <td>0.935065</td>\n",
       "      <td>0.25</td>\n",
       "      <td>1.0</td>\n",
       "      <td>0.179487</td>\n",
       "      <td>0.181818</td>\n",
       "      <td>0.0</td>\n",
       "      <td>0.0</td>\n",
       "      <td>0.0</td>\n",
       "      <td>0.0</td>\n",
       "      <td>0.047059</td>\n",
       "      <td>0.007075</td>\n",
       "      <td>0.040771</td>\n",
       "    </tr>\n",
       "    <tr>\n",
       "      <th>3</th>\n",
       "      <td>0.055556</td>\n",
       "      <td>0.0</td>\n",
       "      <td>0.181818</td>\n",
       "      <td>0.2551</td>\n",
       "      <td>0.844156</td>\n",
       "      <td>0.25</td>\n",
       "      <td>1.0</td>\n",
       "      <td>0.205128</td>\n",
       "      <td>0.181818</td>\n",
       "      <td>0.0</td>\n",
       "      <td>0.0</td>\n",
       "      <td>0.0</td>\n",
       "      <td>0.0</td>\n",
       "      <td>0.105882</td>\n",
       "      <td>0.002358</td>\n",
       "      <td>0.040771</td>\n",
       "    </tr>\n",
       "    <tr>\n",
       "      <th>4</th>\n",
       "      <td>0.074074</td>\n",
       "      <td>1.0</td>\n",
       "      <td>0.272727</td>\n",
       "      <td>0.6500</td>\n",
       "      <td>0.740260</td>\n",
       "      <td>0.25</td>\n",
       "      <td>1.0</td>\n",
       "      <td>0.230769</td>\n",
       "      <td>0.090909</td>\n",
       "      <td>0.0</td>\n",
       "      <td>0.0</td>\n",
       "      <td>0.0</td>\n",
       "      <td>1.0</td>\n",
       "      <td>0.047059</td>\n",
       "      <td>0.004717</td>\n",
       "      <td>0.027778</td>\n",
       "    </tr>\n",
       "  </tbody>\n",
       "</table>\n",
       "</div>"
      ],
      "text/plain": [
       "   manufacturer_name  transmission     color  odometer_value  year_produced  \\\n",
       "0           0.000000           0.0  0.000000          0.1300       0.961039   \n",
       "1           0.018519           1.0  0.090909          0.1490       0.909091   \n",
       "2           0.037037           0.0  0.090909          0.1100       0.935065   \n",
       "3           0.055556           0.0  0.181818          0.2551       0.844156   \n",
       "4           0.074074           1.0  0.272727          0.6500       0.740260   \n",
       "\n",
       "   engine_fuel  engine_type  engine_capacity  body_type  has_warranty  \\\n",
       "0         0.00          0.0         0.179487   0.000000           0.0   \n",
       "1         0.25          1.0         0.179487   0.090909           0.0   \n",
       "2         0.25          1.0         0.179487   0.181818           0.0   \n",
       "3         0.25          1.0         0.205128   0.181818           0.0   \n",
       "4         0.25          1.0         0.230769   0.090909           0.0   \n",
       "\n",
       "   ownership  type_of_drive  is_exchangeable  number_of_photos  \\\n",
       "0        0.0            0.0              1.0          0.188235   \n",
       "1        0.0            0.0              0.0          0.094118   \n",
       "2        0.0            0.0              0.0          0.047059   \n",
       "3        0.0            0.0              0.0          0.105882   \n",
       "4        0.0            0.0              1.0          0.047059   \n",
       "\n",
       "   number_of_maintenance  duration_listed  \n",
       "0               0.029088         0.030018  \n",
       "1               0.001572         0.044803  \n",
       "2               0.007075         0.040771  \n",
       "3               0.002358         0.040771  \n",
       "4               0.004717         0.027778  "
      ]
     },
     "execution_count": 19,
     "metadata": {},
     "output_type": "execute_result"
    }
   ],
   "source": [
    "from sklearn.preprocessing import MinMaxScaler\n",
    "#Normalizing the data\n",
    "\n",
    "#storing the column names\n",
    "columns = x_ordinal_enc.columns.values.tolist()\n",
    "#obtain scaled values\n",
    "scaling = MinMaxScaler().fit(x_ordinal_enc.values)\n",
    "features_data = scaling.transform(x_ordinal_enc.values)\n",
    "#replace with scaled values\n",
    "x_ordinal_enc[columns] = features_data\n",
    "x_ordinal_enc.head()"
   ]
  },
  {
   "cell_type": "code",
   "execution_count": 20,
   "id": "04754c76",
   "metadata": {},
   "outputs": [
    {
     "name": "stdout",
     "output_type": "stream",
     "text": [
      "(44986, 16) (4999, 16) (44986,) (4999,)\n"
     ]
    }
   ],
   "source": [
    "# Create test and validation set\n",
    "from sklearn.model_selection import train_test_split\n",
    "\n",
    "x_train, x_val, y_train, y_val = train_test_split(x_ordinal_enc, y, test_size = 0.1, random_state= 42)\n",
    "print(x_train.shape, x_val.shape, y_train.shape, y_val.shape)"
   ]
  },
  {
   "cell_type": "markdown",
   "id": "68df9d62",
   "metadata": {},
   "source": [
    "<p><span style=\"font-family: Georgia, serif; font-size: 18px;\">Step 2: Feature Selection</span></p>\n",
    "<p><span style=\"font-size: 18px; line-height: 142%; font-family: Georgia, serif;\">Recursive feature elimination (RFE) is a feature selection method that fits a model and removes the weakest feature (or features) until the specified number of features is reached.</span></p>\n",
    "<p><span style=\"font-family: Georgia, serif; font-size: 18px;\">Using Sklearn RFECV method we can apply RFE with 10 cross-validations to figure the optimal number of features with the highest score.</span></p>"
   ]
  },
  {
   "cell_type": "code",
   "execution_count": 201,
   "id": "77f9f708",
   "metadata": {},
   "outputs": [],
   "source": [
    "from sklearn import svm\n",
    "# RFE is wrapper feature selection method, it requires a linear estimator. SVM with linear kernal will be used.\n",
    "cl = svm.SVR(C=10, degree=2, gamma=0.05, kernel= 'linear')"
   ]
  },
  {
   "cell_type": "code",
   "execution_count": null,
   "id": "8f387cad",
   "metadata": {},
   "outputs": [],
   "source": [
    "from sklearn.model_selection import KFold\n",
    "from sklearn.feature_selection import RFECV\n",
    "min_features_to_select = 2  # Minimum number of features to consider\n",
    "rfecv_svm = RFECV(\n",
    "    estimator=cl,\n",
    "    \n",
    "    cv=KFold(5,shuffle=True,),\n",
    "    scoring=\"neg_mean_absolute_error\",\n",
    "    \n",
    "    min_features_to_select=min_features_to_select, n_jobs=-1\n",
    ")\n",
    "rfecv_svm.fit(x_train, y_train)"
   ]
  },
  {
   "cell_type": "code",
   "execution_count": null,
   "id": "c7ae85ae",
   "metadata": {},
   "outputs": [],
   "source": [
    "print(\"Optimal number of features : %d\" % rfecv_svm.n_features_)"
   ]
  },
  {
   "cell_type": "code",
   "execution_count": null,
   "id": "f1ad9199",
   "metadata": {},
   "outputs": [],
   "source": [
    "plt.figure()\n",
    "plt.xlabel(\"Number of features selected\")\n",
    "plt.ylabel(\"Cross validation score (MAE)\")\n",
    "plt.plot(\n",
    "    range(min_features_to_select, len(rfecv_svm.grid_scores_) + min_features_to_select),\n",
    "    rfecv_svm.grid_scores_,\n",
    ")\n",
    "plt.show()"
   ]
  },
  {
   "cell_type": "markdown",
   "id": "7c5b8c6a",
   "metadata": {},
   "source": [
    "## It appears that the current number of features is optimal therefore no features will be dropped."
   ]
  },
  {
   "cell_type": "markdown",
   "id": "221b858f",
   "metadata": {},
   "source": [
    "# Step 3: Construct Different Models"
   ]
  },
  {
   "cell_type": "code",
   "execution_count": 21,
   "id": "46084bf1",
   "metadata": {},
   "outputs": [],
   "source": [
    "from sklearn import metrics\n",
    "#define a dunction to print MAE and MSE\n",
    "def print_evaluate(true, predicted):  \n",
    "    mae = metrics.mean_absolute_error(true, predicted)\n",
    "    mse = metrics.mean_squared_error(true, predicted)\n",
    "    print('MAE:', mae)\n",
    "    print('MSE:', mse)\n",
    "    print('__________________________________')\n",
    "    \n",
    "# this function return the actual values of mae and mse\n",
    "def evaluate(true, predicted):\n",
    "    mae = metrics.mean_absolute_error(true, predicted)\n",
    "    mse = metrics.mean_squared_error(true, predicted)\n",
    "\n",
    "    return mae, mse"
   ]
  },
  {
   "cell_type": "markdown",
   "id": "330b741b",
   "metadata": {},
   "source": [
    "## Applying Support Vector Machine"
   ]
  },
  {
   "cell_type": "code",
   "execution_count": 23,
   "id": "a38bf779",
   "metadata": {},
   "outputs": [
    {
     "data": {
      "text/plain": [
       "SVR(C=1500, degree=2, gamma=0.05)"
      ]
     },
     "execution_count": 23,
     "metadata": {},
     "output_type": "execute_result"
    }
   ],
   "source": [
    "from sklearn import svm\n",
    "#SVR is called because this is a regression problem\n",
    "cl = svm.SVR(C=1500, degree=2, gamma=0.05, kernel= 'rbf')\n",
    "cl.fit(x_train, y_train)\n"
   ]
  },
  {
   "cell_type": "code",
   "execution_count": 27,
   "id": "901ce752",
   "metadata": {},
   "outputs": [
    {
     "name": "stdout",
     "output_type": "stream",
     "text": [
      "Test set evaluation:\n",
      "_____________________________________\n",
      "MAE: 1966.077826306146\n",
      "MSE: 11046468.90807746\n",
      "__________________________________\n"
     ]
    }
   ],
   "source": [
    "test_pred = cl.predict(x_val)\n",
    "print('Test set evaluation:\\n_____________________________________')\n",
    "print_evaluate(y_val, test_pred)\n",
    "\n",
    "#Creating a table to record the results\n",
    "results_df = pd.DataFrame(data=[[\"Support Vector Machine\", *evaluate(y_val, test_pred)]], \n",
    "                          columns=['Model', 'MAE', 'MSE'])"
   ]
  },
  {
   "cell_type": "markdown",
   "id": "dd737583",
   "metadata": {},
   "source": [
    "# Applying Random Forest"
   ]
  },
  {
   "cell_type": "code",
   "execution_count": 29,
   "id": "e9fe7616",
   "metadata": {},
   "outputs": [
    {
     "data": {
      "text/plain": [
       "RandomForestRegressor(n_estimators=1000, n_jobs=-1)"
      ]
     },
     "execution_count": 29,
     "metadata": {},
     "output_type": "execute_result"
    }
   ],
   "source": [
    "from sklearn.ensemble import RandomForestRegressor\n",
    "rf_reg = RandomForestRegressor(n_estimators=1000, n_jobs= -1)\n",
    "rf_reg.fit(x_train, y_train)"
   ]
  },
  {
   "cell_type": "code",
   "execution_count": 30,
   "id": "96e81488",
   "metadata": {},
   "outputs": [
    {
     "name": "stdout",
     "output_type": "stream",
     "text": [
      "Test set evaluation:\n",
      "_____________________________________\n",
      "MAE: 736.4413326269345\n",
      "MSE: 2174978.589774171\n",
      "__________________________________\n"
     ]
    },
    {
     "name": "stderr",
     "output_type": "stream",
     "text": [
      "C:\\Users\\Al-Hassan\\AppData\\Local\\Temp\\ipykernel_12784\\546640911.py:7: FutureWarning: The frame.append method is deprecated and will be removed from pandas in a future version. Use pandas.concat instead.\n",
      "  results_df = results_df.append(results_df_2, ignore_index=True)\n"
     ]
    }
   ],
   "source": [
    "test_pred = rf_reg.predict(x_val)\n",
    "print('Test set evaluation:\\n_____________________________________')\n",
    "print_evaluate(y_val, test_pred)\n",
    "\n",
    "results_df_2 = pd.DataFrame(data=[[\"Random Forest\", *evaluate(y_val, test_pred)]], \n",
    "                            columns=['Model', 'MAE', 'MSE'])\n",
    "results_df = results_df.append(results_df_2, ignore_index=True)"
   ]
  },
  {
   "cell_type": "markdown",
   "id": "b1314e51",
   "metadata": {},
   "source": [
    "# Applying Neural Network"
   ]
  },
  {
   "cell_type": "code",
   "execution_count": 32,
   "id": "bf7ce4dd",
   "metadata": {},
   "outputs": [
    {
     "name": "stdout",
     "output_type": "stream",
     "text": [
      "Epoch 1/10\n",
      "4499/4499 [==============================] - 14s 3ms/step - loss: 16633588.0000 - mse: 16633588.0000 - mae: 2619.8955 - val_loss: 9264161.0000 - val_mse: 9264161.0000 - val_mae: 2000.3282\n",
      "Epoch 2/10\n",
      "4499/4499 [==============================] - 13s 3ms/step - loss: 10184019.0000 - mse: 10184019.0000 - mae: 2016.8232 - val_loss: 7740106.0000 - val_mse: 7740106.0000 - val_mae: 1731.0745\n",
      "Epoch 3/10\n",
      "4499/4499 [==============================] - 13s 3ms/step - loss: 9077151.0000 - mse: 9077152.0000 - mae: 1901.8701 - val_loss: 6899019.0000 - val_mse: 6899018.5000 - val_mae: 1640.7144\n",
      "Epoch 4/10\n",
      "4499/4499 [==============================] - 14s 3ms/step - loss: 8617251.0000 - mse: 8617251.0000 - mae: 1851.3303 - val_loss: 6843822.0000 - val_mse: 6843822.0000 - val_mae: 1802.1315\n",
      "Epoch 5/10\n",
      "4499/4499 [==============================] - 14s 3ms/step - loss: 8182351.5000 - mse: 8182351.5000 - mae: 1807.7812 - val_loss: 6648032.0000 - val_mse: 6648032.0000 - val_mae: 1658.3529\n",
      "Epoch 6/10\n",
      "4499/4499 [==============================] - 13s 3ms/step - loss: 8158980.5000 - mse: 8158980.5000 - mae: 1797.6432 - val_loss: 8068449.0000 - val_mse: 8068449.0000 - val_mae: 1788.1277\n",
      "Epoch 7/10\n",
      "4499/4499 [==============================] - 13s 3ms/step - loss: 8064589.0000 - mse: 8064589.0000 - mae: 1786.3264 - val_loss: 6174792.5000 - val_mse: 6174792.5000 - val_mae: 1643.1875\n",
      "Epoch 8/10\n",
      "4499/4499 [==============================] - 13s 3ms/step - loss: 7860219.0000 - mse: 7860219.0000 - mae: 1774.2665 - val_loss: 6274581.0000 - val_mse: 6274581.0000 - val_mae: 1692.1366\n",
      "Epoch 9/10\n",
      "4499/4499 [==============================] - 13s 3ms/step - loss: 7904308.0000 - mse: 7904308.0000 - mae: 1770.9021 - val_loss: 5953392.5000 - val_mse: 5953392.5000 - val_mae: 1596.3950\n",
      "Epoch 10/10\n",
      "4499/4499 [==============================] - 14s 3ms/step - loss: 7715108.5000 - mse: 7715108.5000 - mae: 1752.5128 - val_loss: 6165821.5000 - val_mse: 6165821.5000 - val_mae: 1678.5765\n"
     ]
    }
   ],
   "source": [
    "from tensorflow.keras.models import Sequential\n",
    "from tensorflow.keras.layers import Input, Dense, Activation, Dropout\n",
    "from tensorflow.keras.optimizers import Adam\n",
    "# transform data into arrays\n",
    "X_train = np.array(x_train)\n",
    "X_test = np.array(x_val)\n",
    "y_train = np.array(y_train)\n",
    "y_test = np.array(y_val)\n",
    "#define the model\n",
    "model = Sequential()\n",
    "# define input layer\n",
    "model.add(Dense(X_train.shape[1], activation='relu'))\n",
    "model.add(Dense(32, activation='relu'))\n",
    "model.add(Dropout(0.2))\n",
    "\n",
    "model.add(Dense(64, activation='relu'))\n",
    "model.add(Dropout(0.2))\n",
    "\n",
    "model.add(Dense(128, activation='relu'))\n",
    "model.add(Dropout(0.2))\n",
    "\n",
    "model.add(Dense(512, activation='relu'))\n",
    "model.add(Dropout(0.1))\n",
    "model.add(Dense(1))\n",
    "\n",
    "model.compile(loss='mse', optimizer='adam', metrics=['mse','mae'])\n",
    "\n",
    "r = model.fit(x_train, y_train,\n",
    "              validation_data=(x_val,y_val),\n",
    "              batch_size=10,\n",
    "              epochs=10)"
   ]
  },
  {
   "cell_type": "code",
   "execution_count": 33,
   "id": "fbaa73bc",
   "metadata": {},
   "outputs": [
    {
     "name": "stdout",
     "output_type": "stream",
     "text": [
      "Test set evaluation:\n",
      "_____________________________________\n",
      "MAE: 1678.5763877941604\n",
      "MSE: 6165820.65494037\n",
      "__________________________________\n"
     ]
    },
    {
     "name": "stderr",
     "output_type": "stream",
     "text": [
      "C:\\Users\\Al-Hassan\\AppData\\Local\\Temp\\ipykernel_12784\\899480975.py:7: FutureWarning: The frame.append method is deprecated and will be removed from pandas in a future version. Use pandas.concat instead.\n",
      "  results_df = results_df.append(results_df_2, ignore_index=True)\n"
     ]
    }
   ],
   "source": [
    "test_pred = model.predict(x_val)\n",
    "print('Test set evaluation:\\n_____________________________________')\n",
    "print_evaluate(y_test, test_pred)\n",
    "\n",
    "results_df_2 = pd.DataFrame(data=[[\"Neural Network\", *evaluate(y_val, test_pred)]], \n",
    "                            columns=['Model', 'MAE', 'MSE'])\n",
    "results_df = results_df.append(results_df_2, ignore_index=True)"
   ]
  },
  {
   "cell_type": "markdown",
   "id": "13852f6f",
   "metadata": {},
   "source": [
    "# Applying CatBoost "
   ]
  },
  {
   "cell_type": "code",
   "execution_count": 34,
   "id": "6d9c7b9e",
   "metadata": {},
   "outputs": [
    {
     "data": {
      "application/vnd.jupyter.widget-view+json": {
       "model_id": "f71e0b0801f6443eb8ee7380dbde3d78",
       "version_major": 2,
       "version_minor": 0
      },
      "text/plain": [
       "MetricVisualizer(layout=Layout(align_self='stretch', height='500px'))"
      ]
     },
     "metadata": {},
     "output_type": "display_data"
    },
    {
     "name": "stdout",
     "output_type": "stream",
     "text": [
      "0:\tlearn: 2061.5192907\ttest: 2011.8576296\tbest: 2011.8576296 (0)\ttotal: 170ms\tremaining: 50.7s\n",
      "1:\tlearn: 1659.2619095\ttest: 1669.2011017\tbest: 1669.2011017 (1)\ttotal: 205ms\tremaining: 30.5s\n",
      "2:\tlearn: 1514.7993865\ttest: 1530.8401898\tbest: 1530.8401898 (2)\ttotal: 240ms\tremaining: 23.7s\n",
      "3:\tlearn: 1396.7492221\ttest: 1450.3668883\tbest: 1450.3668883 (3)\ttotal: 275ms\tremaining: 20.3s\n",
      "4:\tlearn: 1354.4773436\ttest: 1413.4241411\tbest: 1413.4241411 (4)\ttotal: 309ms\tremaining: 18.2s\n",
      "5:\tlearn: 1296.4759944\ttest: 1371.8496307\tbest: 1371.8496307 (5)\ttotal: 343ms\tremaining: 16.8s\n",
      "6:\tlearn: 1258.2964735\ttest: 1329.2932231\tbest: 1329.2932231 (6)\ttotal: 380ms\tremaining: 15.9s\n",
      "7:\tlearn: 1212.2815448\ttest: 1307.0716511\tbest: 1307.0716511 (7)\ttotal: 415ms\tremaining: 15.2s\n",
      "8:\tlearn: 1203.2061968\ttest: 1306.4162345\tbest: 1306.4162345 (8)\ttotal: 452ms\tremaining: 14.6s\n",
      "9:\tlearn: 1193.0888571\ttest: 1298.3930404\tbest: 1298.3930404 (9)\ttotal: 488ms\tremaining: 14.1s\n",
      "10:\tlearn: 1173.0203724\ttest: 1279.2824064\tbest: 1279.2824064 (10)\ttotal: 528ms\tremaining: 13.9s\n",
      "11:\tlearn: 1153.9994283\ttest: 1277.6468046\tbest: 1277.6468046 (11)\ttotal: 566ms\tremaining: 13.6s\n",
      "12:\tlearn: 1139.0095925\ttest: 1271.2546650\tbest: 1271.2546650 (12)\ttotal: 607ms\tremaining: 13.4s\n",
      "13:\tlearn: 1120.6873775\ttest: 1267.6285843\tbest: 1267.6285843 (13)\ttotal: 645ms\tremaining: 13.2s\n",
      "14:\tlearn: 1106.5422761\ttest: 1252.3626444\tbest: 1252.3626444 (14)\ttotal: 682ms\tremaining: 12.9s\n",
      "15:\tlearn: 1092.9997210\ttest: 1243.0185241\tbest: 1243.0185241 (15)\ttotal: 717ms\tremaining: 12.7s\n",
      "16:\tlearn: 1083.4548012\ttest: 1234.3591012\tbest: 1234.3591012 (16)\ttotal: 754ms\tremaining: 12.6s\n",
      "17:\tlearn: 1055.6735800\ttest: 1234.3077507\tbest: 1234.3077507 (17)\ttotal: 795ms\tremaining: 12.5s\n",
      "18:\tlearn: 1044.1979582\ttest: 1225.5536302\tbest: 1225.5536302 (18)\ttotal: 829ms\tremaining: 12.3s\n",
      "19:\tlearn: 1029.5102772\ttest: 1215.5286178\tbest: 1215.5286178 (19)\ttotal: 866ms\tremaining: 12.1s\n",
      "20:\tlearn: 1012.6778336\ttest: 1208.3853290\tbest: 1208.3853290 (20)\ttotal: 905ms\tremaining: 12s\n",
      "21:\tlearn: 998.0862897\ttest: 1196.0809657\tbest: 1196.0809657 (21)\ttotal: 948ms\tremaining: 12s\n",
      "22:\tlearn: 992.0552654\ttest: 1194.1304589\tbest: 1194.1304589 (22)\ttotal: 1.04s\tremaining: 12.5s\n",
      "23:\tlearn: 972.3950047\ttest: 1194.1653708\tbest: 1194.1304589 (22)\ttotal: 1.1s\tremaining: 12.6s\n",
      "24:\tlearn: 967.3586186\ttest: 1192.8628656\tbest: 1192.8628656 (24)\ttotal: 1.14s\tremaining: 12.5s\n",
      "25:\tlearn: 964.3147873\ttest: 1191.0585786\tbest: 1191.0585786 (25)\ttotal: 1.22s\tremaining: 12.8s\n",
      "26:\tlearn: 951.8401760\ttest: 1191.1349859\tbest: 1191.0585786 (25)\ttotal: 1.26s\tremaining: 12.8s\n",
      "27:\tlearn: 945.1038031\ttest: 1188.8857597\tbest: 1188.8857597 (27)\ttotal: 1.3s\tremaining: 12.7s\n",
      "28:\tlearn: 938.7297875\ttest: 1186.9203764\tbest: 1186.9203764 (28)\ttotal: 1.33s\tremaining: 12.5s\n",
      "29:\tlearn: 930.5067246\ttest: 1184.7545813\tbest: 1184.7545813 (29)\ttotal: 1.36s\tremaining: 12.3s\n",
      "30:\tlearn: 924.7592305\ttest: 1182.4039497\tbest: 1182.4039497 (30)\ttotal: 1.4s\tremaining: 12.1s\n",
      "31:\tlearn: 914.0595108\ttest: 1183.7350499\tbest: 1182.4039497 (30)\ttotal: 1.43s\tremaining: 12s\n",
      "32:\tlearn: 908.0164343\ttest: 1182.4685308\tbest: 1182.4039497 (30)\ttotal: 1.47s\tremaining: 11.9s\n",
      "33:\tlearn: 901.9268857\ttest: 1178.6032327\tbest: 1178.6032327 (33)\ttotal: 1.5s\tremaining: 11.7s\n",
      "34:\tlearn: 890.3634411\ttest: 1174.5306860\tbest: 1174.5306860 (34)\ttotal: 1.53s\tremaining: 11.6s\n",
      "35:\tlearn: 888.4353148\ttest: 1173.9010733\tbest: 1173.9010733 (35)\ttotal: 1.57s\tremaining: 11.5s\n",
      "36:\tlearn: 881.0389522\ttest: 1173.0505375\tbest: 1173.0505375 (36)\ttotal: 1.6s\tremaining: 11.4s\n",
      "37:\tlearn: 874.2615074\ttest: 1168.3814953\tbest: 1168.3814953 (37)\ttotal: 1.64s\tremaining: 11.3s\n",
      "38:\tlearn: 870.6329119\ttest: 1169.4670169\tbest: 1168.3814953 (37)\ttotal: 1.67s\tremaining: 11.2s\n",
      "39:\tlearn: 865.9614841\ttest: 1167.8136157\tbest: 1167.8136157 (39)\ttotal: 1.71s\tremaining: 11.1s\n",
      "40:\tlearn: 860.2686190\ttest: 1164.8313748\tbest: 1164.8313748 (40)\ttotal: 1.74s\tremaining: 11s\n",
      "41:\tlearn: 850.1321701\ttest: 1164.3017271\tbest: 1164.3017271 (41)\ttotal: 1.76s\tremaining: 10.8s\n",
      "42:\tlearn: 847.0257641\ttest: 1164.3249666\tbest: 1164.3017271 (41)\ttotal: 1.79s\tremaining: 10.7s\n",
      "43:\tlearn: 843.3055706\ttest: 1161.0348857\tbest: 1161.0348857 (43)\ttotal: 1.82s\tremaining: 10.6s\n",
      "44:\tlearn: 836.2647513\ttest: 1161.7624285\tbest: 1161.0348857 (43)\ttotal: 1.85s\tremaining: 10.5s\n",
      "45:\tlearn: 832.0979383\ttest: 1160.3015267\tbest: 1160.3015267 (45)\ttotal: 1.88s\tremaining: 10.4s\n",
      "46:\tlearn: 830.0151660\ttest: 1159.3766484\tbest: 1159.3766484 (46)\ttotal: 1.93s\tremaining: 10.4s\n",
      "47:\tlearn: 827.1939106\ttest: 1157.5551539\tbest: 1157.5551539 (47)\ttotal: 1.96s\tremaining: 10.3s\n",
      "48:\tlearn: 821.9456390\ttest: 1154.3702579\tbest: 1154.3702579 (48)\ttotal: 2s\tremaining: 10.2s\n",
      "49:\tlearn: 819.7874283\ttest: 1159.3181508\tbest: 1154.3702579 (48)\ttotal: 2.03s\tremaining: 10.2s\n",
      "50:\tlearn: 816.4759878\ttest: 1157.1714133\tbest: 1154.3702579 (48)\ttotal: 2.07s\tremaining: 10.1s\n",
      "51:\tlearn: 808.5696738\ttest: 1153.6916107\tbest: 1153.6916107 (51)\ttotal: 2.11s\tremaining: 10.1s\n",
      "52:\tlearn: 803.4166894\ttest: 1147.4046764\tbest: 1147.4046764 (52)\ttotal: 2.14s\tremaining: 9.99s\n",
      "53:\tlearn: 797.1216237\ttest: 1146.2004416\tbest: 1146.2004416 (53)\ttotal: 2.18s\tremaining: 9.94s\n",
      "54:\tlearn: 790.8491561\ttest: 1142.6163459\tbest: 1142.6163459 (54)\ttotal: 2.21s\tremaining: 9.87s\n",
      "55:\tlearn: 787.9325994\ttest: 1141.8280458\tbest: 1141.8280458 (55)\ttotal: 2.25s\tremaining: 9.79s\n",
      "56:\tlearn: 785.0030739\ttest: 1142.8411869\tbest: 1141.8280458 (55)\ttotal: 2.28s\tremaining: 9.72s\n",
      "57:\tlearn: 782.9050741\ttest: 1143.6888973\tbest: 1141.8280458 (55)\ttotal: 2.31s\tremaining: 9.64s\n",
      "58:\tlearn: 779.6739490\ttest: 1142.8146474\tbest: 1141.8280458 (55)\ttotal: 2.34s\tremaining: 9.58s\n",
      "59:\tlearn: 775.8206404\ttest: 1140.4864096\tbest: 1140.4864096 (59)\ttotal: 2.38s\tremaining: 9.51s\n",
      "60:\tlearn: 771.7189338\ttest: 1139.5284662\tbest: 1139.5284662 (60)\ttotal: 2.41s\tremaining: 9.46s\n",
      "61:\tlearn: 770.2202845\ttest: 1138.8835029\tbest: 1138.8835029 (61)\ttotal: 2.45s\tremaining: 9.39s\n",
      "62:\tlearn: 769.5406458\ttest: 1138.3866167\tbest: 1138.3866167 (62)\ttotal: 2.49s\tremaining: 9.38s\n",
      "63:\tlearn: 767.0565124\ttest: 1138.1097701\tbest: 1138.1097701 (63)\ttotal: 2.54s\tremaining: 9.36s\n",
      "64:\tlearn: 764.9175861\ttest: 1137.3676120\tbest: 1137.3676120 (64)\ttotal: 2.58s\tremaining: 9.34s\n",
      "65:\tlearn: 763.7651022\ttest: 1136.6792368\tbest: 1136.6792368 (65)\ttotal: 2.63s\tremaining: 9.31s\n",
      "66:\tlearn: 763.1441429\ttest: 1136.4683321\tbest: 1136.4683321 (66)\ttotal: 2.65s\tremaining: 9.23s\n",
      "67:\tlearn: 761.8976351\ttest: 1135.7201833\tbest: 1135.7201833 (67)\ttotal: 2.7s\tremaining: 9.21s\n",
      "68:\tlearn: 758.0343657\ttest: 1135.1890403\tbest: 1135.1890403 (68)\ttotal: 2.73s\tremaining: 9.14s\n",
      "69:\tlearn: 757.2684949\ttest: 1135.6533951\tbest: 1135.1890403 (68)\ttotal: 2.76s\tremaining: 9.07s\n",
      "70:\tlearn: 752.6628086\ttest: 1131.8928823\tbest: 1131.8928823 (70)\ttotal: 2.79s\tremaining: 9s\n",
      "71:\tlearn: 749.3379629\ttest: 1128.9602027\tbest: 1128.9602027 (71)\ttotal: 2.82s\tremaining: 8.92s\n",
      "72:\tlearn: 743.9500530\ttest: 1126.7495228\tbest: 1126.7495228 (72)\ttotal: 2.86s\tremaining: 8.88s\n",
      "73:\tlearn: 739.9546614\ttest: 1124.0693476\tbest: 1124.0693476 (73)\ttotal: 2.89s\tremaining: 8.82s\n",
      "74:\tlearn: 736.7652193\ttest: 1123.4926438\tbest: 1123.4926438 (74)\ttotal: 2.92s\tremaining: 8.75s\n",
      "75:\tlearn: 735.3886375\ttest: 1122.3558720\tbest: 1122.3558720 (75)\ttotal: 2.95s\tremaining: 8.69s\n",
      "76:\tlearn: 733.8708027\ttest: 1120.9450704\tbest: 1120.9450704 (76)\ttotal: 2.98s\tremaining: 8.63s\n",
      "77:\tlearn: 732.8707382\ttest: 1121.3018538\tbest: 1120.9450704 (76)\ttotal: 3.01s\tremaining: 8.56s\n",
      "78:\tlearn: 731.8641326\ttest: 1121.4464336\tbest: 1120.9450704 (76)\ttotal: 3.04s\tremaining: 8.49s\n",
      "79:\tlearn: 731.1723403\ttest: 1121.3360768\tbest: 1120.9450704 (76)\ttotal: 3.06s\tremaining: 8.42s\n",
      "80:\tlearn: 730.3688962\ttest: 1121.0204059\tbest: 1120.9450704 (76)\ttotal: 3.1s\tremaining: 8.4s\n",
      "81:\tlearn: 729.0041245\ttest: 1122.7178169\tbest: 1120.9450704 (76)\ttotal: 3.14s\tremaining: 8.35s\n",
      "82:\tlearn: 727.2622996\ttest: 1120.6381911\tbest: 1120.6381911 (82)\ttotal: 3.17s\tremaining: 8.29s\n",
      "83:\tlearn: 726.6252835\ttest: 1120.0600260\tbest: 1120.0600260 (83)\ttotal: 3.2s\tremaining: 8.22s\n",
      "84:\tlearn: 723.9782907\ttest: 1119.6882472\tbest: 1119.6882472 (84)\ttotal: 3.23s\tremaining: 8.17s\n",
      "85:\tlearn: 722.6881828\ttest: 1117.4435033\tbest: 1117.4435033 (85)\ttotal: 3.26s\tremaining: 8.11s\n",
      "86:\tlearn: 721.7436350\ttest: 1117.3062679\tbest: 1117.3062679 (86)\ttotal: 3.29s\tremaining: 8.05s\n"
     ]
    },
    {
     "name": "stdout",
     "output_type": "stream",
     "text": [
      "87:\tlearn: 718.4360072\ttest: 1115.9368305\tbest: 1115.9368305 (87)\ttotal: 3.33s\tremaining: 8.01s\n",
      "88:\tlearn: 717.2388417\ttest: 1114.2417933\tbest: 1114.2417933 (88)\ttotal: 3.36s\tremaining: 7.96s\n",
      "89:\tlearn: 714.3999449\ttest: 1111.8792146\tbest: 1111.8792146 (89)\ttotal: 3.39s\tremaining: 7.9s\n",
      "90:\tlearn: 713.3000665\ttest: 1110.4556600\tbest: 1110.4556600 (90)\ttotal: 3.42s\tremaining: 7.87s\n",
      "91:\tlearn: 712.0083353\ttest: 1110.7100547\tbest: 1110.4556600 (90)\ttotal: 3.46s\tremaining: 7.82s\n",
      "92:\tlearn: 709.6170926\ttest: 1107.1761466\tbest: 1107.1761466 (92)\ttotal: 3.49s\tremaining: 7.77s\n",
      "93:\tlearn: 708.4845250\ttest: 1106.0392040\tbest: 1106.0392040 (93)\ttotal: 3.52s\tremaining: 7.71s\n",
      "94:\tlearn: 705.1725482\ttest: 1106.4925244\tbest: 1106.0392040 (93)\ttotal: 3.55s\tremaining: 7.67s\n",
      "95:\tlearn: 703.3716710\ttest: 1105.8013615\tbest: 1105.8013615 (95)\ttotal: 3.58s\tremaining: 7.62s\n",
      "96:\tlearn: 701.8815644\ttest: 1105.2916480\tbest: 1105.2916480 (96)\ttotal: 3.61s\tremaining: 7.56s\n",
      "97:\tlearn: 698.2714361\ttest: 1103.2598011\tbest: 1103.2598011 (97)\ttotal: 3.64s\tremaining: 7.51s\n",
      "98:\tlearn: 693.2676623\ttest: 1103.0753613\tbest: 1103.0753613 (98)\ttotal: 3.69s\tremaining: 7.49s\n",
      "99:\tlearn: 692.3931499\ttest: 1103.2992118\tbest: 1103.0753613 (98)\ttotal: 3.73s\tremaining: 7.47s\n",
      "100:\tlearn: 691.5960381\ttest: 1103.1459983\tbest: 1103.0753613 (98)\ttotal: 3.8s\tremaining: 7.49s\n",
      "101:\tlearn: 690.7105657\ttest: 1103.2112206\tbest: 1103.0753613 (98)\ttotal: 3.84s\tremaining: 7.46s\n",
      "102:\tlearn: 688.7671448\ttest: 1100.9747683\tbest: 1100.9747683 (102)\ttotal: 3.9s\tremaining: 7.47s\n",
      "103:\tlearn: 687.6373603\ttest: 1100.5086824\tbest: 1100.5086824 (103)\ttotal: 3.95s\tremaining: 7.44s\n",
      "104:\tlearn: 687.1053430\ttest: 1101.8184489\tbest: 1100.5086824 (103)\ttotal: 3.98s\tremaining: 7.39s\n",
      "105:\tlearn: 683.6000760\ttest: 1099.9312145\tbest: 1099.9312145 (105)\ttotal: 4.01s\tremaining: 7.35s\n",
      "106:\tlearn: 682.9684845\ttest: 1099.0964896\tbest: 1099.0964896 (106)\ttotal: 4.05s\tremaining: 7.31s\n",
      "107:\tlearn: 682.6388719\ttest: 1099.2166595\tbest: 1099.0964896 (106)\ttotal: 4.08s\tremaining: 7.26s\n",
      "108:\tlearn: 680.9454901\ttest: 1097.2637653\tbest: 1097.2637653 (108)\ttotal: 4.11s\tremaining: 7.21s\n",
      "109:\tlearn: 680.3422242\ttest: 1096.7821912\tbest: 1096.7821912 (109)\ttotal: 4.14s\tremaining: 7.16s\n",
      "110:\tlearn: 678.2282512\ttest: 1096.5409212\tbest: 1096.5409212 (110)\ttotal: 4.17s\tremaining: 7.11s\n",
      "111:\tlearn: 678.0640729\ttest: 1096.4956783\tbest: 1096.4956783 (111)\ttotal: 4.2s\tremaining: 7.05s\n",
      "112:\tlearn: 677.8321460\ttest: 1096.3923308\tbest: 1096.3923308 (112)\ttotal: 4.23s\tremaining: 7s\n",
      "113:\tlearn: 676.9163100\ttest: 1096.8721016\tbest: 1096.3923308 (112)\ttotal: 4.26s\tremaining: 6.95s\n",
      "114:\tlearn: 674.9553431\ttest: 1096.5561901\tbest: 1096.3923308 (112)\ttotal: 4.29s\tremaining: 6.91s\n",
      "115:\tlearn: 671.9162969\ttest: 1093.6237501\tbest: 1093.6237501 (115)\ttotal: 4.33s\tremaining: 6.86s\n",
      "116:\tlearn: 670.3910240\ttest: 1094.1386800\tbest: 1093.6237501 (115)\ttotal: 4.36s\tremaining: 6.82s\n",
      "117:\tlearn: 669.8922477\ttest: 1093.5356315\tbest: 1093.5356315 (117)\ttotal: 4.39s\tremaining: 6.78s\n",
      "118:\tlearn: 669.0923124\ttest: 1093.0017105\tbest: 1093.0017105 (118)\ttotal: 4.44s\tremaining: 6.75s\n",
      "119:\tlearn: 667.2868168\ttest: 1092.3768091\tbest: 1092.3768091 (119)\ttotal: 4.47s\tremaining: 6.71s\n",
      "120:\tlearn: 666.6155633\ttest: 1091.8734988\tbest: 1091.8734988 (120)\ttotal: 4.5s\tremaining: 6.66s\n",
      "121:\tlearn: 666.4904255\ttest: 1091.8479320\tbest: 1091.8479320 (121)\ttotal: 4.53s\tremaining: 6.61s\n",
      "122:\tlearn: 665.9027926\ttest: 1091.7982995\tbest: 1091.7982995 (122)\ttotal: 4.56s\tremaining: 6.56s\n",
      "123:\tlearn: 662.7262641\ttest: 1097.2429742\tbest: 1091.7982995 (122)\ttotal: 4.59s\tremaining: 6.52s\n",
      "124:\tlearn: 662.2310424\ttest: 1097.6685407\tbest: 1091.7982995 (122)\ttotal: 4.62s\tremaining: 6.47s\n",
      "125:\tlearn: 660.8667528\ttest: 1097.6367583\tbest: 1091.7982995 (122)\ttotal: 4.65s\tremaining: 6.42s\n",
      "126:\tlearn: 660.4454285\ttest: 1096.6039495\tbest: 1091.7982995 (122)\ttotal: 4.69s\tremaining: 6.39s\n",
      "127:\tlearn: 659.4826669\ttest: 1096.3642514\tbest: 1091.7982995 (122)\ttotal: 4.73s\tremaining: 6.36s\n",
      "128:\tlearn: 658.8223805\ttest: 1095.3918653\tbest: 1091.7982995 (122)\ttotal: 4.78s\tremaining: 6.33s\n",
      "129:\tlearn: 657.6886493\ttest: 1095.2301482\tbest: 1091.7982995 (122)\ttotal: 4.81s\tremaining: 6.29s\n",
      "130:\tlearn: 657.3190410\ttest: 1095.3896635\tbest: 1091.7982995 (122)\ttotal: 4.84s\tremaining: 6.25s\n",
      "131:\tlearn: 656.8148219\ttest: 1094.2749042\tbest: 1091.7982995 (122)\ttotal: 4.87s\tremaining: 6.2s\n",
      "132:\tlearn: 656.3559263\ttest: 1093.9789941\tbest: 1091.7982995 (122)\ttotal: 4.91s\tremaining: 6.17s\n",
      "133:\tlearn: 656.0079281\ttest: 1093.8895966\tbest: 1091.7982995 (122)\ttotal: 4.94s\tremaining: 6.13s\n",
      "134:\tlearn: 651.9637374\ttest: 1093.1509445\tbest: 1091.7982995 (122)\ttotal: 4.97s\tremaining: 6.08s\n",
      "135:\tlearn: 650.0133466\ttest: 1093.2142568\tbest: 1091.7982995 (122)\ttotal: 5.01s\tremaining: 6.04s\n",
      "136:\tlearn: 649.1878846\ttest: 1093.3406344\tbest: 1091.7982995 (122)\ttotal: 5.04s\tremaining: 6s\n",
      "137:\tlearn: 647.7418104\ttest: 1092.9004082\tbest: 1091.7982995 (122)\ttotal: 5.09s\tremaining: 5.97s\n",
      "138:\tlearn: 644.7724029\ttest: 1093.6376202\tbest: 1091.7982995 (122)\ttotal: 5.12s\tremaining: 5.93s\n",
      "139:\tlearn: 644.4081186\ttest: 1093.9825821\tbest: 1091.7982995 (122)\ttotal: 5.15s\tremaining: 5.89s\n",
      "140:\tlearn: 642.9057576\ttest: 1093.9719751\tbest: 1091.7982995 (122)\ttotal: 5.18s\tremaining: 5.84s\n",
      "141:\tlearn: 641.4974546\ttest: 1092.6022430\tbest: 1091.7982995 (122)\ttotal: 5.21s\tremaining: 5.8s\n",
      "142:\tlearn: 639.2745410\ttest: 1092.4961654\tbest: 1091.7982995 (122)\ttotal: 5.24s\tremaining: 5.76s\n",
      "143:\tlearn: 638.6967962\ttest: 1092.0192786\tbest: 1091.7982995 (122)\ttotal: 5.27s\tremaining: 5.71s\n",
      "144:\tlearn: 633.0086236\ttest: 1094.0540467\tbest: 1091.7982995 (122)\ttotal: 5.31s\tremaining: 5.67s\n",
      "145:\tlearn: 632.7949034\ttest: 1094.1076219\tbest: 1091.7982995 (122)\ttotal: 5.34s\tremaining: 5.63s\n",
      "146:\tlearn: 632.4736161\ttest: 1093.9000077\tbest: 1091.7982995 (122)\ttotal: 5.38s\tremaining: 5.6s\n",
      "147:\tlearn: 630.9773093\ttest: 1092.7454268\tbest: 1091.7982995 (122)\ttotal: 5.42s\tremaining: 5.56s\n",
      "148:\tlearn: 630.1567018\ttest: 1092.4442849\tbest: 1091.7982995 (122)\ttotal: 5.46s\tremaining: 5.53s\n",
      "149:\tlearn: 628.0854121\ttest: 1092.7470052\tbest: 1091.7982995 (122)\ttotal: 5.49s\tremaining: 5.49s\n",
      "150:\tlearn: 627.9243558\ttest: 1092.1426389\tbest: 1091.7982995 (122)\ttotal: 5.52s\tremaining: 5.44s\n",
      "151:\tlearn: 627.8397656\ttest: 1092.1641639\tbest: 1091.7982995 (122)\ttotal: 5.55s\tremaining: 5.4s\n",
      "152:\tlearn: 625.0347516\ttest: 1090.4964764\tbest: 1090.4964764 (152)\ttotal: 5.58s\tremaining: 5.36s\n",
      "153:\tlearn: 624.1871032\ttest: 1089.7427550\tbest: 1089.7427550 (153)\ttotal: 5.61s\tremaining: 5.32s\n",
      "154:\tlearn: 623.1442464\ttest: 1090.0005136\tbest: 1089.7427550 (153)\ttotal: 5.64s\tremaining: 5.28s\n",
      "155:\tlearn: 622.5250123\ttest: 1090.1429370\tbest: 1089.7427550 (153)\ttotal: 5.68s\tremaining: 5.24s\n",
      "156:\tlearn: 621.7920899\ttest: 1089.5927331\tbest: 1089.5927331 (156)\ttotal: 5.71s\tremaining: 5.2s\n",
      "157:\tlearn: 621.3295233\ttest: 1089.7152197\tbest: 1089.5927331 (156)\ttotal: 5.74s\tremaining: 5.16s\n",
      "158:\tlearn: 620.2303317\ttest: 1090.3094254\tbest: 1089.5927331 (156)\ttotal: 5.79s\tremaining: 5.13s\n",
      "159:\tlearn: 619.9857550\ttest: 1089.9989864\tbest: 1089.5927331 (156)\ttotal: 5.83s\tremaining: 5.1s\n",
      "160:\tlearn: 619.7566728\ttest: 1089.6919082\tbest: 1089.5927331 (156)\ttotal: 5.87s\tremaining: 5.07s\n",
      "161:\tlearn: 619.4033001\ttest: 1089.8886652\tbest: 1089.5927331 (156)\ttotal: 5.9s\tremaining: 5.03s\n",
      "162:\tlearn: 619.3068147\ttest: 1089.7718311\tbest: 1089.5927331 (156)\ttotal: 5.93s\tremaining: 4.99s\n",
      "163:\tlearn: 619.0923173\ttest: 1089.5108145\tbest: 1089.5108145 (163)\ttotal: 5.96s\tremaining: 4.95s\n",
      "164:\tlearn: 617.3387597\ttest: 1089.6867658\tbest: 1089.5108145 (163)\ttotal: 6s\tremaining: 4.91s\n",
      "165:\tlearn: 616.8360713\ttest: 1089.9438927\tbest: 1089.5108145 (163)\ttotal: 6.04s\tremaining: 4.87s\n",
      "166:\tlearn: 615.9195139\ttest: 1089.3271976\tbest: 1089.3271976 (166)\ttotal: 6.08s\tremaining: 4.84s\n",
      "167:\tlearn: 615.4164348\ttest: 1089.2596149\tbest: 1089.2596149 (167)\ttotal: 6.12s\tremaining: 4.81s\n",
      "168:\tlearn: 615.2016531\ttest: 1088.9518446\tbest: 1088.9518446 (168)\ttotal: 6.16s\tremaining: 4.77s\n",
      "169:\tlearn: 613.0531621\ttest: 1089.5896332\tbest: 1088.9518446 (168)\ttotal: 6.19s\tremaining: 4.73s\n",
      "170:\tlearn: 612.2296356\ttest: 1089.1629962\tbest: 1088.9518446 (168)\ttotal: 6.22s\tremaining: 4.69s\n",
      "171:\tlearn: 611.5587689\ttest: 1089.1931949\tbest: 1088.9518446 (168)\ttotal: 6.25s\tremaining: 4.65s\n"
     ]
    },
    {
     "name": "stdout",
     "output_type": "stream",
     "text": [
      "172:\tlearn: 611.3480853\ttest: 1089.1366621\tbest: 1088.9518446 (168)\ttotal: 6.29s\tremaining: 4.62s\n",
      "173:\tlearn: 610.5536245\ttest: 1089.9447949\tbest: 1088.9518446 (168)\ttotal: 6.32s\tremaining: 4.58s\n",
      "174:\tlearn: 609.2487406\ttest: 1090.5221488\tbest: 1088.9518446 (168)\ttotal: 6.36s\tremaining: 4.54s\n",
      "175:\tlearn: 608.7989003\ttest: 1090.1324034\tbest: 1088.9518446 (168)\ttotal: 6.39s\tremaining: 4.5s\n",
      "176:\tlearn: 604.7601912\ttest: 1087.9710180\tbest: 1087.9710180 (176)\ttotal: 6.42s\tremaining: 4.46s\n",
      "177:\tlearn: 603.7570575\ttest: 1087.8884530\tbest: 1087.8884530 (177)\ttotal: 6.46s\tremaining: 4.42s\n",
      "178:\tlearn: 602.9392492\ttest: 1087.6530587\tbest: 1087.6530587 (178)\ttotal: 6.49s\tremaining: 4.39s\n",
      "179:\tlearn: 602.0256247\ttest: 1088.3064936\tbest: 1087.6530587 (178)\ttotal: 6.53s\tremaining: 4.35s\n",
      "180:\tlearn: 600.9939366\ttest: 1088.5004590\tbest: 1087.6530587 (178)\ttotal: 6.56s\tremaining: 4.31s\n",
      "181:\tlearn: 600.8225595\ttest: 1088.3523120\tbest: 1087.6530587 (178)\ttotal: 6.59s\tremaining: 4.27s\n",
      "182:\tlearn: 600.1467411\ttest: 1089.2265971\tbest: 1087.6530587 (178)\ttotal: 6.62s\tremaining: 4.23s\n",
      "183:\tlearn: 600.0285884\ttest: 1089.0522229\tbest: 1087.6530587 (178)\ttotal: 6.65s\tremaining: 4.19s\n",
      "184:\tlearn: 597.9534353\ttest: 1089.2566637\tbest: 1087.6530587 (178)\ttotal: 6.68s\tremaining: 4.15s\n",
      "185:\tlearn: 596.2203135\ttest: 1089.3474454\tbest: 1087.6530587 (178)\ttotal: 6.71s\tremaining: 4.11s\n",
      "186:\tlearn: 595.4778010\ttest: 1090.0009432\tbest: 1087.6530587 (178)\ttotal: 6.74s\tremaining: 4.07s\n",
      "187:\tlearn: 595.1070380\ttest: 1090.0193806\tbest: 1087.6530587 (178)\ttotal: 6.77s\tremaining: 4.03s\n",
      "188:\tlearn: 593.8021494\ttest: 1088.6889800\tbest: 1087.6530587 (178)\ttotal: 6.8s\tremaining: 4s\n",
      "189:\tlearn: 592.6477809\ttest: 1088.5693521\tbest: 1087.6530587 (178)\ttotal: 6.83s\tremaining: 3.96s\n",
      "190:\tlearn: 592.0347610\ttest: 1087.5131455\tbest: 1087.5131455 (190)\ttotal: 6.88s\tremaining: 3.92s\n",
      "191:\tlearn: 590.7691105\ttest: 1087.4440263\tbest: 1087.4440263 (191)\ttotal: 6.92s\tremaining: 3.89s\n",
      "192:\tlearn: 588.8747781\ttest: 1085.9868316\tbest: 1085.9868316 (192)\ttotal: 6.96s\tremaining: 3.86s\n",
      "193:\tlearn: 587.1120708\ttest: 1086.1758948\tbest: 1085.9868316 (192)\ttotal: 7s\tremaining: 3.82s\n",
      "194:\tlearn: 586.9548293\ttest: 1086.0795319\tbest: 1085.9868316 (192)\ttotal: 7.04s\tremaining: 3.79s\n",
      "195:\tlearn: 586.6449294\ttest: 1086.1306919\tbest: 1085.9868316 (192)\ttotal: 7.07s\tremaining: 3.75s\n",
      "196:\tlearn: 585.4860525\ttest: 1085.3507042\tbest: 1085.3507042 (196)\ttotal: 7.1s\tremaining: 3.71s\n",
      "197:\tlearn: 585.0576328\ttest: 1085.4781403\tbest: 1085.3507042 (196)\ttotal: 7.14s\tremaining: 3.68s\n",
      "198:\tlearn: 583.2773295\ttest: 1084.7795610\tbest: 1084.7795610 (198)\ttotal: 7.17s\tremaining: 3.64s\n",
      "199:\tlearn: 582.8554663\ttest: 1083.6625099\tbest: 1083.6625099 (199)\ttotal: 7.21s\tremaining: 3.61s\n",
      "200:\tlearn: 581.7486163\ttest: 1083.1244355\tbest: 1083.1244355 (200)\ttotal: 7.25s\tremaining: 3.57s\n",
      "201:\tlearn: 581.0636577\ttest: 1082.3659667\tbest: 1082.3659667 (201)\ttotal: 7.28s\tremaining: 3.53s\n",
      "202:\tlearn: 579.8846115\ttest: 1081.5902118\tbest: 1081.5902118 (202)\ttotal: 7.32s\tremaining: 3.5s\n",
      "203:\tlearn: 579.3069118\ttest: 1081.0136515\tbest: 1081.0136515 (203)\ttotal: 7.35s\tremaining: 3.46s\n",
      "204:\tlearn: 577.7844317\ttest: 1080.3811909\tbest: 1080.3811909 (204)\ttotal: 7.38s\tremaining: 3.42s\n",
      "205:\tlearn: 576.3175993\ttest: 1080.6921603\tbest: 1080.3811909 (204)\ttotal: 7.41s\tremaining: 3.38s\n",
      "206:\tlearn: 575.8471041\ttest: 1080.3015528\tbest: 1080.3015528 (206)\ttotal: 7.46s\tremaining: 3.35s\n",
      "207:\tlearn: 575.2298019\ttest: 1080.3101722\tbest: 1080.3015528 (206)\ttotal: 7.51s\tremaining: 3.32s\n",
      "208:\tlearn: 575.0231409\ttest: 1079.6682587\tbest: 1079.6682587 (208)\ttotal: 7.55s\tremaining: 3.29s\n",
      "209:\tlearn: 574.4667065\ttest: 1079.7471431\tbest: 1079.6682587 (208)\ttotal: 7.59s\tremaining: 3.25s\n",
      "210:\tlearn: 574.1311991\ttest: 1079.3727202\tbest: 1079.3727202 (210)\ttotal: 7.63s\tremaining: 3.22s\n",
      "211:\tlearn: 574.0491733\ttest: 1079.3392825\tbest: 1079.3392825 (211)\ttotal: 7.67s\tremaining: 3.18s\n",
      "212:\tlearn: 573.8311541\ttest: 1079.6913351\tbest: 1079.3392825 (211)\ttotal: 7.7s\tremaining: 3.15s\n",
      "213:\tlearn: 573.5228405\ttest: 1079.4954245\tbest: 1079.3392825 (211)\ttotal: 7.74s\tremaining: 3.11s\n",
      "214:\tlearn: 572.8711599\ttest: 1079.6335557\tbest: 1079.3392825 (211)\ttotal: 7.77s\tremaining: 3.07s\n",
      "215:\tlearn: 572.7917072\ttest: 1079.6063749\tbest: 1079.3392825 (211)\ttotal: 7.8s\tremaining: 3.03s\n",
      "216:\tlearn: 571.5112418\ttest: 1079.7137195\tbest: 1079.3392825 (211)\ttotal: 7.83s\tremaining: 2.99s\n",
      "217:\tlearn: 571.4571381\ttest: 1079.6691545\tbest: 1079.3392825 (211)\ttotal: 7.86s\tremaining: 2.96s\n",
      "218:\tlearn: 571.0989132\ttest: 1080.3191379\tbest: 1079.3392825 (211)\ttotal: 7.9s\tremaining: 2.92s\n",
      "219:\tlearn: 570.4572257\ttest: 1078.9120353\tbest: 1078.9120353 (219)\ttotal: 7.94s\tremaining: 2.89s\n",
      "220:\tlearn: 570.1641460\ttest: 1078.9933743\tbest: 1078.9120353 (219)\ttotal: 7.97s\tremaining: 2.85s\n",
      "221:\tlearn: 569.4957416\ttest: 1077.3823380\tbest: 1077.3823380 (221)\ttotal: 8.01s\tremaining: 2.81s\n",
      "222:\tlearn: 569.2734925\ttest: 1077.2698250\tbest: 1077.2698250 (222)\ttotal: 8.05s\tremaining: 2.78s\n",
      "223:\tlearn: 569.1667998\ttest: 1077.0766664\tbest: 1077.0766664 (223)\ttotal: 8.09s\tremaining: 2.75s\n",
      "224:\tlearn: 568.8694001\ttest: 1078.4353938\tbest: 1077.0766664 (223)\ttotal: 8.13s\tremaining: 2.71s\n",
      "225:\tlearn: 568.4374230\ttest: 1077.9992677\tbest: 1077.0766664 (223)\ttotal: 8.17s\tremaining: 2.68s\n",
      "226:\tlearn: 568.3135162\ttest: 1077.6275596\tbest: 1077.0766664 (223)\ttotal: 8.2s\tremaining: 2.64s\n",
      "227:\tlearn: 568.1782906\ttest: 1077.5771875\tbest: 1077.0766664 (223)\ttotal: 8.23s\tremaining: 2.6s\n",
      "228:\tlearn: 567.1784265\ttest: 1076.8365822\tbest: 1076.8365822 (228)\ttotal: 8.27s\tremaining: 2.56s\n",
      "229:\tlearn: 567.0316269\ttest: 1076.4400292\tbest: 1076.4400292 (229)\ttotal: 8.31s\tremaining: 2.53s\n",
      "230:\tlearn: 566.6325678\ttest: 1076.6980342\tbest: 1076.4400292 (229)\ttotal: 8.34s\tremaining: 2.49s\n",
      "231:\tlearn: 565.9246999\ttest: 1076.1623122\tbest: 1076.1623122 (231)\ttotal: 8.37s\tremaining: 2.45s\n",
      "232:\tlearn: 565.8847763\ttest: 1076.1120362\tbest: 1076.1120362 (232)\ttotal: 8.39s\tremaining: 2.41s\n",
      "233:\tlearn: 565.5937563\ttest: 1076.3420264\tbest: 1076.1120362 (232)\ttotal: 8.42s\tremaining: 2.38s\n",
      "234:\tlearn: 565.4944536\ttest: 1076.3286326\tbest: 1076.1120362 (232)\ttotal: 8.45s\tremaining: 2.34s\n",
      "235:\tlearn: 565.2167742\ttest: 1076.1327866\tbest: 1076.1120362 (232)\ttotal: 8.49s\tremaining: 2.3s\n",
      "236:\tlearn: 565.0955028\ttest: 1075.9449362\tbest: 1075.9449362 (236)\ttotal: 8.53s\tremaining: 2.27s\n",
      "237:\tlearn: 564.8622475\ttest: 1075.7763812\tbest: 1075.7763812 (237)\ttotal: 8.56s\tremaining: 2.23s\n",
      "238:\tlearn: 564.8381424\ttest: 1075.8055579\tbest: 1075.7763812 (237)\ttotal: 8.59s\tremaining: 2.19s\n",
      "239:\tlearn: 563.9438401\ttest: 1074.7688556\tbest: 1074.7688556 (239)\ttotal: 8.62s\tremaining: 2.15s\n",
      "240:\tlearn: 563.1248832\ttest: 1074.8229238\tbest: 1074.7688556 (239)\ttotal: 8.65s\tremaining: 2.12s\n",
      "241:\tlearn: 562.1299563\ttest: 1076.3994745\tbest: 1074.7688556 (239)\ttotal: 8.68s\tremaining: 2.08s\n",
      "242:\tlearn: 561.6388136\ttest: 1075.7940225\tbest: 1074.7688556 (239)\ttotal: 8.71s\tremaining: 2.04s\n",
      "243:\tlearn: 561.5315503\ttest: 1075.5735344\tbest: 1074.7688556 (239)\ttotal: 8.73s\tremaining: 2s\n",
      "244:\tlearn: 559.5452144\ttest: 1075.3931946\tbest: 1074.7688556 (239)\ttotal: 8.77s\tremaining: 1.97s\n",
      "245:\tlearn: 558.8278750\ttest: 1074.8214306\tbest: 1074.7688556 (239)\ttotal: 8.8s\tremaining: 1.93s\n",
      "246:\tlearn: 558.4448058\ttest: 1074.5807810\tbest: 1074.5807810 (246)\ttotal: 8.83s\tremaining: 1.89s\n",
      "247:\tlearn: 556.9408286\ttest: 1073.5199931\tbest: 1073.5199931 (247)\ttotal: 8.86s\tremaining: 1.86s\n",
      "248:\tlearn: 556.8756021\ttest: 1073.4612149\tbest: 1073.4612149 (248)\ttotal: 8.89s\tremaining: 1.82s\n",
      "249:\tlearn: 556.7125456\ttest: 1073.4210085\tbest: 1073.4210085 (249)\ttotal: 8.92s\tremaining: 1.78s\n",
      "250:\tlearn: 556.3400889\ttest: 1073.5089427\tbest: 1073.4210085 (249)\ttotal: 8.95s\tremaining: 1.75s\n",
      "251:\tlearn: 556.2075625\ttest: 1073.3819262\tbest: 1073.3819262 (251)\ttotal: 8.97s\tremaining: 1.71s\n",
      "252:\tlearn: 556.0860380\ttest: 1073.4695880\tbest: 1073.3819262 (251)\ttotal: 9.01s\tremaining: 1.67s\n",
      "253:\tlearn: 555.6703465\ttest: 1073.3901520\tbest: 1073.3819262 (251)\ttotal: 9.04s\tremaining: 1.64s\n",
      "254:\tlearn: 555.5037788\ttest: 1073.4978836\tbest: 1073.3819262 (251)\ttotal: 9.08s\tremaining: 1.6s\n",
      "255:\tlearn: 555.1552669\ttest: 1072.5230591\tbest: 1072.5230591 (255)\ttotal: 9.11s\tremaining: 1.56s\n",
      "256:\tlearn: 555.1320619\ttest: 1072.4772885\tbest: 1072.4772885 (256)\ttotal: 9.13s\tremaining: 1.53s\n",
      "257:\tlearn: 554.6560107\ttest: 1071.4227535\tbest: 1071.4227535 (257)\ttotal: 9.16s\tremaining: 1.49s\n",
      "258:\tlearn: 554.5427333\ttest: 1071.4014564\tbest: 1071.4014564 (258)\ttotal: 9.19s\tremaining: 1.46s\n"
     ]
    },
    {
     "name": "stdout",
     "output_type": "stream",
     "text": [
      "259:\tlearn: 553.5487712\ttest: 1070.2665184\tbest: 1070.2665184 (259)\ttotal: 9.23s\tremaining: 1.42s\n",
      "260:\tlearn: 553.3442613\ttest: 1070.1978337\tbest: 1070.1978337 (260)\ttotal: 9.26s\tremaining: 1.38s\n",
      "261:\tlearn: 552.7390879\ttest: 1070.0496052\tbest: 1070.0496052 (261)\ttotal: 9.29s\tremaining: 1.35s\n",
      "262:\tlearn: 551.8838452\ttest: 1069.2531338\tbest: 1069.2531338 (262)\ttotal: 9.32s\tremaining: 1.31s\n",
      "263:\tlearn: 551.6496503\ttest: 1069.2270466\tbest: 1069.2270466 (263)\ttotal: 9.35s\tremaining: 1.27s\n",
      "264:\tlearn: 551.5373835\ttest: 1069.5007570\tbest: 1069.2270466 (263)\ttotal: 9.38s\tremaining: 1.24s\n",
      "265:\tlearn: 550.8587197\ttest: 1068.8565535\tbest: 1068.8565535 (265)\ttotal: 9.41s\tremaining: 1.2s\n",
      "266:\tlearn: 550.5436584\ttest: 1067.3455714\tbest: 1067.3455714 (266)\ttotal: 9.44s\tremaining: 1.17s\n",
      "267:\tlearn: 549.8878862\ttest: 1066.5754789\tbest: 1066.5754789 (267)\ttotal: 9.47s\tremaining: 1.13s\n",
      "268:\tlearn: 548.0689000\ttest: 1066.4841373\tbest: 1066.4841373 (268)\ttotal: 9.52s\tremaining: 1.1s\n",
      "269:\tlearn: 547.9634414\ttest: 1066.3087116\tbest: 1066.3087116 (269)\ttotal: 9.55s\tremaining: 1.06s\n",
      "270:\tlearn: 547.8988832\ttest: 1065.9163440\tbest: 1065.9163440 (270)\ttotal: 9.57s\tremaining: 1.02s\n",
      "271:\tlearn: 547.8583381\ttest: 1065.8917378\tbest: 1065.8917378 (271)\ttotal: 9.61s\tremaining: 989ms\n",
      "272:\tlearn: 547.5139318\ttest: 1065.6123208\tbest: 1065.6123208 (272)\ttotal: 9.64s\tremaining: 953ms\n",
      "273:\tlearn: 546.9305659\ttest: 1065.6066671\tbest: 1065.6066671 (273)\ttotal: 9.67s\tremaining: 918ms\n",
      "274:\tlearn: 546.9099452\ttest: 1065.6049569\tbest: 1065.6049569 (274)\ttotal: 9.7s\tremaining: 882ms\n",
      "275:\tlearn: 546.4963253\ttest: 1064.6434324\tbest: 1064.6434324 (275)\ttotal: 9.73s\tremaining: 846ms\n",
      "276:\tlearn: 546.4592093\ttest: 1064.5982319\tbest: 1064.5982319 (276)\ttotal: 9.76s\tremaining: 811ms\n",
      "277:\tlearn: 546.1751637\ttest: 1064.6313746\tbest: 1064.5982319 (276)\ttotal: 9.79s\tremaining: 775ms\n",
      "278:\tlearn: 546.0210811\ttest: 1065.0795319\tbest: 1064.5982319 (276)\ttotal: 9.82s\tremaining: 739ms\n",
      "279:\tlearn: 545.7334877\ttest: 1065.8365001\tbest: 1064.5982319 (276)\ttotal: 9.85s\tremaining: 704ms\n",
      "280:\tlearn: 545.4677201\ttest: 1065.0487514\tbest: 1064.5982319 (276)\ttotal: 9.89s\tremaining: 669ms\n",
      "281:\tlearn: 544.7656054\ttest: 1063.8319673\tbest: 1063.8319673 (281)\ttotal: 9.92s\tremaining: 633ms\n",
      "282:\tlearn: 544.5918838\ttest: 1063.8089639\tbest: 1063.8089639 (282)\ttotal: 9.95s\tremaining: 597ms\n",
      "283:\tlearn: 543.8704000\ttest: 1062.7712532\tbest: 1062.7712532 (283)\ttotal: 9.97s\tremaining: 562ms\n",
      "284:\tlearn: 543.8471527\ttest: 1062.7966298\tbest: 1062.7712532 (283)\ttotal: 10s\tremaining: 527ms\n",
      "285:\tlearn: 543.5921564\ttest: 1062.6900154\tbest: 1062.6900154 (285)\ttotal: 10s\tremaining: 491ms\n",
      "286:\tlearn: 543.5492164\ttest: 1062.6708483\tbest: 1062.6708483 (286)\ttotal: 10.1s\tremaining: 456ms\n",
      "287:\tlearn: 543.2786247\ttest: 1062.4978170\tbest: 1062.4978170 (287)\ttotal: 10.1s\tremaining: 421ms\n",
      "288:\tlearn: 543.0601052\ttest: 1062.4222757\tbest: 1062.4222757 (288)\ttotal: 10.1s\tremaining: 386ms\n",
      "289:\tlearn: 542.3960630\ttest: 1061.8925207\tbest: 1061.8925207 (289)\ttotal: 10.2s\tremaining: 351ms\n",
      "290:\tlearn: 542.1077531\ttest: 1062.1651701\tbest: 1061.8925207 (289)\ttotal: 10.2s\tremaining: 315ms\n",
      "291:\tlearn: 541.9316400\ttest: 1062.1971522\tbest: 1061.8925207 (289)\ttotal: 10.2s\tremaining: 280ms\n",
      "292:\tlearn: 541.6744304\ttest: 1062.1000962\tbest: 1061.8925207 (289)\ttotal: 10.3s\tremaining: 245ms\n",
      "293:\tlearn: 541.5575246\ttest: 1062.1548061\tbest: 1061.8925207 (289)\ttotal: 10.3s\tremaining: 210ms\n",
      "294:\tlearn: 540.9145474\ttest: 1062.3150261\tbest: 1061.8925207 (289)\ttotal: 10.3s\tremaining: 175ms\n",
      "295:\tlearn: 540.1555298\ttest: 1062.1731214\tbest: 1061.8925207 (289)\ttotal: 10.3s\tremaining: 140ms\n",
      "296:\tlearn: 539.5276307\ttest: 1061.1857354\tbest: 1061.1857354 (296)\ttotal: 10.4s\tremaining: 105ms\n",
      "297:\tlearn: 538.9300869\ttest: 1061.6741709\tbest: 1061.1857354 (296)\ttotal: 10.4s\tremaining: 69.8ms\n",
      "298:\tlearn: 538.8045578\ttest: 1061.3533595\tbest: 1061.1857354 (296)\ttotal: 10.4s\tremaining: 34.9ms\n",
      "299:\tlearn: 538.7482106\ttest: 1061.1124283\tbest: 1061.1124283 (299)\ttotal: 10.5s\tremaining: 0us\n",
      "\n",
      "bestTest = 1061.112428\n",
      "bestIteration = 299\n",
      "\n"
     ]
    },
    {
     "data": {
      "text/plain": [
       "<catboost.core.CatBoostRegressor at 0x2d61113b100>"
      ]
     },
     "execution_count": 34,
     "metadata": {},
     "output_type": "execute_result"
    }
   ],
   "source": [
    "from catboost import CatBoostRegressor, Pool, cv\n",
    "cat = CatBoostRegressor(iterations=300, loss_function='MAE', depth=10, l2_leaf_reg=9,learning_rate=0.9 )\n",
    "# train the model\n",
    "cat.fit(x_train,\n",
    "          y_train,\n",
    "          \n",
    "          eval_set=(x_val, y_val),\n",
    "\n",
    "          plot=True)"
   ]
  },
  {
   "cell_type": "code",
   "execution_count": 35,
   "id": "ecdc7ca8",
   "metadata": {},
   "outputs": [
    {
     "name": "stdout",
     "output_type": "stream",
     "text": [
      "Test set evaluation:\n",
      "_____________________________________\n",
      "MAE: 1061.1124305260762\n",
      "MSE: 4469086.923577022\n",
      "__________________________________\n"
     ]
    },
    {
     "name": "stderr",
     "output_type": "stream",
     "text": [
      "C:\\Users\\Al-Hassan\\AppData\\Local\\Temp\\ipykernel_12784\\943217398.py:7: FutureWarning: The frame.append method is deprecated and will be removed from pandas in a future version. Use pandas.concat instead.\n",
      "  results_df = results_df.append(results_df_2, ignore_index=True)\n"
     ]
    }
   ],
   "source": [
    "test_pred = cat.predict(x_val)\n",
    "print('Test set evaluation:\\n_____________________________________')\n",
    "print_evaluate(y_test, test_pred)\n",
    "\n",
    "results_df_2 = pd.DataFrame(data=[[\"CatBoost Model\", *evaluate(y_val, test_pred)]], \n",
    "                            columns=['Model', 'MAE', 'MSE'])\n",
    "results_df = results_df.append(results_df_2, ignore_index=True)"
   ]
  },
  {
   "cell_type": "markdown",
   "id": "2e43d452",
   "metadata": {},
   "source": [
    "# Step 4: Evaluating Results"
   ]
  },
  {
   "cell_type": "code",
   "execution_count": 36,
   "id": "d451746f",
   "metadata": {},
   "outputs": [
    {
     "data": {
      "text/html": [
       "<div>\n",
       "<style scoped>\n",
       "    .dataframe tbody tr th:only-of-type {\n",
       "        vertical-align: middle;\n",
       "    }\n",
       "\n",
       "    .dataframe tbody tr th {\n",
       "        vertical-align: top;\n",
       "    }\n",
       "\n",
       "    .dataframe thead th {\n",
       "        text-align: right;\n",
       "    }\n",
       "</style>\n",
       "<table border=\"1\" class=\"dataframe\">\n",
       "  <thead>\n",
       "    <tr style=\"text-align: right;\">\n",
       "      <th></th>\n",
       "      <th>Model</th>\n",
       "      <th>MAE</th>\n",
       "      <th>MSE</th>\n",
       "    </tr>\n",
       "  </thead>\n",
       "  <tbody>\n",
       "    <tr>\n",
       "      <th>0</th>\n",
       "      <td>Support Vector Machine</td>\n",
       "      <td>1966.077826</td>\n",
       "      <td>1.104647e+07</td>\n",
       "    </tr>\n",
       "    <tr>\n",
       "      <th>1</th>\n",
       "      <td>Random Forest</td>\n",
       "      <td>736.441333</td>\n",
       "      <td>2.174979e+06</td>\n",
       "    </tr>\n",
       "    <tr>\n",
       "      <th>2</th>\n",
       "      <td>Neural Network</td>\n",
       "      <td>1678.576388</td>\n",
       "      <td>6.165821e+06</td>\n",
       "    </tr>\n",
       "    <tr>\n",
       "      <th>3</th>\n",
       "      <td>CatBoost Model</td>\n",
       "      <td>1061.112431</td>\n",
       "      <td>4.469087e+06</td>\n",
       "    </tr>\n",
       "  </tbody>\n",
       "</table>\n",
       "</div>"
      ],
      "text/plain": [
       "                    Model          MAE           MSE\n",
       "0  Support Vector Machine  1966.077826  1.104647e+07\n",
       "1           Random Forest   736.441333  2.174979e+06\n",
       "2          Neural Network  1678.576388  6.165821e+06\n",
       "3          CatBoost Model  1061.112431  4.469087e+06"
      ]
     },
     "execution_count": 36,
     "metadata": {},
     "output_type": "execute_result"
    }
   ],
   "source": [
    "results_df"
   ]
  },
  {
   "cell_type": "code",
   "execution_count": 45,
   "id": "e580ab5f",
   "metadata": {},
   "outputs": [
    {
     "data": {
      "image/png": "[encoded data removed]",
      "text/plain": [
       "<Figure size 648x432 with 1 Axes>"
      ]
     },
     "metadata": {
      "needs_background": "light"
     },
     "output_type": "display_data"
    }
   ],
   "source": [
    "plt.subplots(figsize=(9, 6))\n",
    "ax = sns.barplot(x=\"Model\", y=\"MAE\", data=results_df)"
   ]
  },
  {
   "cell_type": "markdown",
   "id": "6dbdd3ef",
   "metadata": {},
   "source": [
    "<p><span style=\"font-size: 18px; font-family: Georgia, serif;\">We find that Random Forest achieves the lowest Mean Absolute Error.&nbsp;</span></p>\n",
    "<p><span style=\"font-family: Georgia, serif; font-size: 18px;\">Possible approaches to explore are applying other feature selection methods such as embedded methods or wrapper methods to check if results remain consistence. Additionally, hyper-parameter optimization techniques can be explored such as grid search, however, since the size of the problem makes grid search inefficient other alternatives such as genetic algorithm can be explored as well.</span></p>\n",
    "<p><br></p>"
   ]
  },
  {
   "cell_type": "code",
   "execution_count": null,
   "id": "7fc46bbf",
   "metadata": {},
   "outputs": [],
   "source": []
  }
 ],
 "metadata": {
  "kernelspec": {
   "display_name": "Python 3 (ipykernel)",
   "language": "python",
   "name": "python3"
  },
  "language_info": {
   "codemirror_mode": {
    "name": "ipython",
    "version": 3
   },
   "file_extension": ".py",
   "mimetype": "text/x-python",
   "name": "python",
   "nbconvert_exporter": "python",
   "pygments_lexer": "ipython3",
   "version": "3.9.7"
  }
 },
 "nbformat": 4,
 "nbformat_minor": 5
}
